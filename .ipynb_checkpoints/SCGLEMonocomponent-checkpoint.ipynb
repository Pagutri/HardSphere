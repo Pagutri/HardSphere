{
 "cells": [
  {
   "cell_type": "markdown",
   "metadata": {},
   "source": [
    "# Self-Consistent Generalized Langevin Equation\n",
    "\n",
    "For hard spheres in a monocomponent fluid. The four equatios of the theory are:\n",
    "\n",
    "\\begin{equation}\n",
    "            \\Delta\\zeta^*(t)=\\frac{D^0}{24\\pi^3n}\\int_0^\\infty d\\textbf{k}\\Bigg[\\frac{k(S(k)-1)}{S(k)}\\Bigg]^2F(k,t)F^S(k,t)\n",
    "        \\end{equation}\n",
    "        \\begin{equation}\n",
    "            F(k,z)=\\frac{S(k)}{z+\\frac{k^2D^0S^{-1}(k)}{1+\\lambda(k)\\Delta\\zeta^*(z)}}\n",
    "        \\end{equation}\n",
    "        \\begin{equation}\n",
    "            F^S(k,z)=\\frac{1}{z+\\frac{k^2D^0}{1+\\lambda(k)\\Delta\\zeta^*(z)}}\n",
    "        \\end{equation}\n",
    "        \\begin{equation}\n",
    "            \\lambda(k)=\\frac{1}{1+\\Big(\\frac{k}{k_c}\\Big)^2}\n",
    "        \\end{equation}\n",
    "\n",
    "Where $\\Delta\\zeta^*$ is the friction coefficient, $S(k)$ is the structure factor, $n$ is the density, $F$ and $F^s$ are the intermediate scattering functions, $D^0$ is the scattering coefficient, $z$ is the variable corresponding to time in Laplace's space and $k_c$ is a free parameter.\n",
    "\n",
    "The calculation of the structure factor uses Wertheim's exact solution for Percus-Yevick integral equation."
   ]
  },
  {
   "cell_type": "code",
   "execution_count": 111,
   "metadata": {},
   "outputs": [],
   "source": [
    "import math\n",
    "import numpy as np\n",
    "import matplotlib.pyplot as plt"
   ]
  },
  {
   "cell_type": "code",
   "execution_count": 112,
   "metadata": {},
   "outputs": [],
   "source": [
    "def calculate_ck(eta, k):\n",
    "    common_denom = (1.0 - eta)**4\n",
    "    alpha = -(1.0 + 2.0 * eta)**2.0 / common_denom\n",
    "    delta = 6.0 * eta * (1.0 + 0.5 * eta)**2 / common_denom\n",
    "    gamma = -0.5 * eta * alpha\n",
    "    \n",
    "    term1 = 4.0 * math.pi / (k**6)\n",
    "    term2 = alpha * (k**3) * (np.sin(k) - k * np.cos(k)) - 24.0 * gamma\n",
    "    term3 = (k**2) * (2.0 * k * np.sin(k) - (k**2 - 2.0) * np.cos(k) - 2.0)\n",
    "    term4 = (4.0 * k**3 - 24.0 * k) * np.sin(k)\n",
    "    term5 = (k**4 - 12.0 * k**2 + 24.0) * np.cos(k)\n",
    "\n",
    "    return term1 * (term2 + delta * term3 - gamma * (term4 - term5))"
   ]
  },
  {
   "cell_type": "code",
   "execution_count": 113,
   "metadata": {},
   "outputs": [],
   "source": [
    "def calculate_sk(eta, k):\n",
    "    rho = 6.0 * eta / math.pi\n",
    "    sk = 1.0 / (1.0 - rho * calculate_ck(eta, k))\n",
    "\n",
    "    return sk"
   ]
  },
  {
   "cell_type": "code",
   "execution_count": 114,
   "metadata": {},
   "outputs": [],
   "source": [
    "def short_scattering(eta, d0, ks, times):\n",
    "    grid_time, grid_k = np.meshgrid(times, ks)\n",
    "    S_k = calculate_sk(eta, grid_k)\n",
    "    F = S_k * np.exp((-1.0) * (grid_k**2) * d0 * grid_time / S_k)\n",
    "    F_self = np.exp((-1.0) * (grid_k**2) * d0 * grid_time)\n",
    "    \n",
    "    return grid_k, S_k, F, F_self"
   ]
  },
  {
   "cell_type": "code",
   "execution_count": 131,
   "metadata": {},
   "outputs": [],
   "source": [
    "def integrand_for_friction(d0, n, ks, S_k, F, Fs):\n",
    "    return F * Fs * (ks * (S_k - 1.0) / S_k)**2"
   ]
  },
  {
   "cell_type": "code",
   "execution_count": 115,
   "metadata": {},
   "outputs": [],
   "source": [
    "def friction(d0, n, ks, S_k, F, Fs):\n",
    "    integrand = F * Fs * (ks * (S_k - 1.0) / S_k)**2\n",
    "    integral = np.sum(integrand, 0)\n",
    "    \n",
    "    return d0 * integral / (24.0 * math.pi**3 * n)"
   ]
  },
  {
   "cell_type": "code",
   "execution_count": 117,
   "metadata": {},
   "outputs": [],
   "source": [
    "eta = 0.25 # Volume fraction\n",
    "pk = 7.1\n",
    "dk = 0.01\n",
    "D0 = 1.0\n",
    "KbT = 1.0\n",
    "rho = 6.0 * eta / math.pi\n",
    "time = np.linspace(1.0e-7, 1.0e-6, 10)\n",
    "set_of_ks = np.arange(0.01, 41.0, dk)"
   ]
  },
  {
   "cell_type": "code",
   "execution_count": 118,
   "metadata": {},
   "outputs": [],
   "source": [
    "structure_factor = []\n",
    "\n",
    "for k in set_of_ks:\n",
    "    sk = calculate_sk(eta, k)\n",
    "    \n",
    "    structure_factor.append(sk)"
   ]
  },
  {
   "cell_type": "code",
   "execution_count": 119,
   "metadata": {},
   "outputs": [],
   "source": [
    "target0 = np.loadtxt('target.dat', usecols = 0)\n",
    "target1 = np.loadtxt('target.dat', usecols = 1)"
   ]
  },
  {
   "cell_type": "code",
   "execution_count": 120,
   "metadata": {},
   "outputs": [
    {
     "data": {
      "image/png": "[encoded data removed]",
      "text/plain": [
       "<Figure size 648x504 with 1 Axes>"
      ]
     },
     "metadata": {
      "needs_background": "light"
     },
     "output_type": "display_data"
    }
   ],
   "source": [
    "fig = plt.figure(figsize = (9, 7))\n",
    "fig.add_subplot(1, 1, 1)\n",
    "plt.plot(set_of_ks, structure_factor, label = 'my result');\n",
    "plt.plot(target0, target1, label = 'expected result');\n",
    "plt.legend(fontsize = 18);"
   ]
  },
  {
   "cell_type": "code",
   "execution_count": 124,
   "metadata": {},
   "outputs": [],
   "source": [
    "# This code is just to prove if my Fs are ok\n",
    "trash1, trash2, pF, pFs = short_scattering(eta, D0, pk * np.ones(len(time)), time)"
   ]
  },
  {
   "cell_type": "code",
   "execution_count": 125,
   "metadata": {},
   "outputs": [],
   "source": [
    "realfs = np.loadtxt('Fs2compare.dat', usecols = 1)\n",
    "realf = np.loadtxt('Fs2compare.dat', usecols = 2)"
   ]
  },
  {
   "cell_type": "code",
   "execution_count": 126,
   "metadata": {},
   "outputs": [
    {
     "data": {
      "image/png": "[encoded data removed]",
      "text/plain": [
       "<Figure size 576x360 with 1 Axes>"
      ]
     },
     "metadata": {
      "needs_background": "light"
     },
     "output_type": "display_data"
    }
   ],
   "source": [
    "fig = plt.figure(figsize = (8, 5))\n",
    "fig.add_subplot(1, 1, 1)\n",
    "plt.semilogx(time, realf[0:10], 'pink', label = r'Real $F$');\n",
    "plt.semilogx(time, realfs[0:10], 'red', label = r'Real $F_s$');\n",
    "plt.semilogx(time, pF[0], 'k', label = r'my $F$');\n",
    "plt.semilogx(time, pFs[0], 'b', label = r'my $F_s$');\n",
    "plt.ylim([0.0, 1.5])\n",
    "plt.title(\"Short time scattering at k = 7.1\", size = 18)\n",
    "plt.legend(fontsize = 18);"
   ]
  },
  {
   "cell_type": "code",
   "execution_count": 127,
   "metadata": {},
   "outputs": [],
   "source": [
    "new_ks, new_Sk, F, Fs = short_scattering(eta, D0, set_of_ks, time)"
   ]
  },
  {
   "cell_type": "code",
   "execution_count": 130,
   "metadata": {},
   "outputs": [],
   "source": [
    "friction_coeff = friction(KbT, rho, new_ks, new_Sk, F, Fs)"
   ]
  }
 ],
 "metadata": {
  "kernelspec": {
   "display_name": "Python 3",
   "language": "python",
   "name": "python3"
  },
  "language_info": {
   "codemirror_mode": {
    "name": "ipython",
    "version": 3
   },
   "file_extension": ".py",
   "mimetype": "text/x-python",
   "name": "python",
   "nbconvert_exporter": "python",
   "pygments_lexer": "ipython3",
   "version": "3.7.3"
  }
 },
 "nbformat": 4,
 "nbformat_minor": 2
}
