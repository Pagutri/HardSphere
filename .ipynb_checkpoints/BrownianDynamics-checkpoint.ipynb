{
 "cells": [
  {
   "cell_type": "markdown",
   "metadata": {},
   "source": [
    "# Brownian Dynamics"
   ]
  },
  {
   "cell_type": "code",
   "execution_count": 1,
   "metadata": {},
   "outputs": [],
   "source": [
    "from math import pi, sqrt\n",
    "import matplotlib.pyplot as plt\n",
    "from mpl_toolkits.mplot3d import Axes3D\n",
    "import numpy as np"
   ]
  },
  {
   "cell_type": "code",
   "execution_count": 2,
   "metadata": {},
   "outputs": [],
   "source": [
    "def initial_configuration(num_of_particles, box_length, mean_distance):\n",
    "    xi = []\n",
    "    yi = []\n",
    "    zi = []\n",
    "    \n",
    "    xi.append(0.5 * (mean_distance - box_length))\n",
    "    yi.append(0.5 * (mean_distance - box_length))\n",
    "    zi.append(0.5 * (mean_distance - box_length))\n",
    "    \n",
    "    for i in range(1, num_of_particles):\n",
    "        x = xi[i - 1] + mean_distance\n",
    "        y = yi[i - 1]\n",
    "        z = zi[i - 1]\n",
    "        \n",
    "        if x > 0.5 * box_length:\n",
    "            x = xi[0]\n",
    "            y = yi[i - 1] + mean_distance\n",
    "            \n",
    "            if y > 0.5 * box_length:\n",
    "                x = xi[0]\n",
    "                y = yi[0]\n",
    "                z = zi[i - 1] + mean_distance\n",
    "            \n",
    "        xi.append(x)\n",
    "        yi.append(y)\n",
    "        zi.append(z)\n",
    "        \n",
    "    return xi, yi, zi"
   ]
  },
  {
   "cell_type": "code",
   "execution_count": 3,
   "metadata": {},
   "outputs": [],
   "source": [
    "def hard_sphere(r, rx, ry, rz, lr, la, a2, epi):\n",
    "    if r < (lr / la)**(1.0 / (lr - la)):\n",
    "        potential_energy = (a2 / epi) * ((1.0 / r)**lr - (1.0 / r)**la) + 1.0 / epi\n",
    "        f = lr * (1.0 / r)**(lr + 1.0) - la * (1.0 / r)**(la + 1.0)\n",
    "        f *= a2 / epi\n",
    "    else:\n",
    "        potential_energy = 0.0\n",
    "        f = 0.0\n",
    "    fx = f * rx / r\n",
    "    fy = f * ry / r\n",
    "    fz = f * rz / r\n",
    "    \n",
    "    return potential_energy, fx, fy, fz"
   ]
  },
  {
   "cell_type": "code",
   "execution_count": 4,
   "metadata": {},
   "outputs": [],
   "source": [
    "def force(x, y, z, box_length, cut_ratio, lr, la, a2, epi):\n",
    "    num_of_particles = len(x)\n",
    "    x_force = np.zeros(num_of_particles)\n",
    "    y_force = np.zeros(num_of_particles)\n",
    "    z_force = np.zeros(num_of_particles)\n",
    "    energy = 0.0\n",
    "    \n",
    "    for i in range(num_of_particles):\n",
    "        for j in range(i + 1, num_of_particles):\n",
    "            xij = x[i] - x[j]\n",
    "            yij = y[i] - y[j]\n",
    "            zij = z[i] - z[j]\n",
    "            xij -= box_length * round(xij / box_length)\n",
    "            yij -= box_length * round(yij / box_length)\n",
    "            zij -= box_length * round(zij / box_length)\n",
    "            rij2 = xij**2 + yij**2 + zij**2\n",
    "            rij = sqrt(rij2)\n",
    "            \n",
    "            if rij < cut_ratio:\n",
    "                uij, fxij, fyij, fzij = hard_sphere(rij, xij, yij, zij, lr, la, a2, epi)\n",
    "                energy += uij\n",
    "                x_force[i] += fxij\n",
    "                y_force[i] += fyij\n",
    "                z_force[i] += fzij\n",
    "                x_force[j] -= fxij\n",
    "                y_force[j] -= fyij\n",
    "                z_force[j] -= fzij\n",
    "                \n",
    "    return energy, x_force, y_force, z_force"
   ]
  },
  {
   "cell_type": "code",
   "execution_count": 5,
   "metadata": {},
   "outputs": [
    {
     "ename": "SyntaxError",
     "evalue": "invalid syntax (<ipython-input-5-db80ee29a13f>, line 5)",
     "output_type": "error",
     "traceback": [
      "\u001b[0;36m  File \u001b[0;32m\"<ipython-input-5-db80ee29a13f>\"\u001b[0;36m, line \u001b[0;32m5\u001b[0m\n\u001b[0;31m    dx = sigma *\u001b[0m\n\u001b[0m                ^\u001b[0m\n\u001b[0;31mSyntaxError\u001b[0m\u001b[0;31m:\u001b[0m invalid syntax\n"
     ]
    }
   ],
   "source": [
    "def position(num_of_particles, x, y, z, fx, fy, fz, delta_t, pbc, seed):\n",
    "    sigma = sqrt(2.0 * delta_t)\n",
    "    \n",
    "    for i in range(num_of_particles):\n",
    "        dx = sigma * "
   ]
  },
  {
   "cell_type": "code",
   "execution_count": 6,
   "metadata": {},
   "outputs": [
    {
     "ename": "SyntaxError",
     "evalue": "invalid syntax (<ipython-input-6-6611abe0125e>, line 1)",
     "output_type": "error",
     "traceback": [
      "\u001b[0;36m  File \u001b[0;32m\"<ipython-input-6-6611abe0125e>\"\u001b[0;36m, line \u001b[0;32m1\u001b[0m\n\u001b[0;31m    subroutine position(x,y,z,fx,fy,fz,pbc)\u001b[0m\n\u001b[0m                      ^\u001b[0m\n\u001b[0;31mSyntaxError\u001b[0m\u001b[0;31m:\u001b[0m invalid syntax\n"
     ]
    }
   ],
   "source": [
    "subroutine position(x,y,z,fx,fy,fz,pbc)\n",
    "      implicit integer*8(i-n),real*8(a-h,o-z)\n",
    "      parameter(mp=1024)\n",
    "      dimension x(mp),y(mp),z(mp)\n",
    "      dimension fx(mp),fy(mp),fz(mp)\n",
    "\t  common/box/boxl,rc,np\n",
    "      common/times/deltat\n",
    "      sigma=dsqrt(2.d0*deltat)\n",
    "      do i=1,np\n",
    "         dx=sigma*gasdev()\n",
    "         dy=sigma*gasdev()\n",
    "\t     dz=sigma*gasdev()\n",
    "         x(i)=x(i)+fx(i)*deltat+dx\n",
    "         y(i)=y(i)+fy(i)*deltat+dy\n",
    "\t     z(i)=z(i)+fz(i)*deltat+dz\n",
    "         if (pbc .gt. 0.d0) then\n",
    "            x(i)=x(i)-boxl*dnint(x(i)/boxl)\n",
    "            y(i)=y(i)-boxl*dnint(y(i)/boxl)\n",
    "            z(i)=z(i)-boxl*dnint(z(i)/boxl)\n",
    "         endif\n",
    "      enddo\n",
    "      return\n",
    "      end"
   ]
  },
  {
   "cell_type": "code",
   "execution_count": 7,
   "metadata": {},
   "outputs": [],
   "source": [
    "num_of_particles = 2**3 # Must be a cube\n",
    "packing_fraction = 0.2\n",
    "l_repulsive = 50.0\n",
    "l_attractive = 49.0\n",
    "epi = 1.4737\n",
    "pbc = 1.0 # Periodic boundary condition\n",
    "delta_t = 0.00001\n",
    "seed = 1234567890\n",
    "diameter = 6.0 * packing_fraction / pi\n",
    "mean_distance = diameter**(-1.0 / 3.0)\n",
    "box_length = (num_of_particles / diameter)**(1.0 / 3.0)\n",
    "a2 = (l_repulsive / (l_repulsive - l_attractive)) * \\\n",
    "     (l_repulsive / l_attractive)**(l_attractive / (l_repulsive - l_attractive))\n",
    "cut_ratio = 0.5 * box_length"
   ]
  },
  {
   "cell_type": "code",
   "execution_count": 8,
   "metadata": {},
   "outputs": [],
   "source": [
    "xi, yi, zi = initial_configuration(num_of_particles, box_length, mean_distance)"
   ]
  },
  {
   "cell_type": "code",
   "execution_count": 9,
   "metadata": {},
   "outputs": [],
   "source": [
    "energy, x_force, y_force, z_force = force(xi, yi, zi, box_length, cut_ratio, l_repulsive, l_attractive, a2, epi)"
   ]
  },
  {
   "cell_type": "code",
   "execution_count": 10,
   "metadata": {
    "scrolled": true
   },
   "outputs": [
    {
     "name": "stdout",
     "output_type": "stream",
     "text": [
      "initial energy: 0.0\n"
     ]
    }
   ],
   "source": [
    "print(\"initial energy:\", energy)"
   ]
  },
  {
   "cell_type": "code",
   "execution_count": 11,
   "metadata": {},
   "outputs": [
    {
     "data": {
      "text/plain": [
       "Text(0.5, 0, 'Z')"
      ]
     },
     "execution_count": 11,
     "metadata": {},
     "output_type": "execute_result"
    },
    {
     "data": {
      "image/png": "[encoded data removed]",
      "text/plain": [
       "<Figure size 432x288 with 1 Axes>"
      ]
     },
     "metadata": {
      "needs_background": "light"
     },
     "output_type": "display_data"
    }
   ],
   "source": [
    "fig = plt.figure()\n",
    "ax = fig.add_subplot(111, projection='3d')\n",
    "ax.scatter(xi, yi, zi, c = 'b', marker = '.') \n",
    "ax.set_xlabel('X')\n",
    "ax.set_ylabel('Y')\n",
    "ax.set_zlabel('Z')"
   ]
  },
  {
   "cell_type": "code",
   "execution_count": 12,
   "metadata": {},
   "outputs": [
    {
     "data": {
      "text/plain": [
       "40320"
      ]
     },
     "execution_count": 12,
     "metadata": {},
     "output_type": "execute_result"
    }
   ],
   "source": [
    "8*7*6*5*4*3*2"
   ]
  },
  {
   "cell_type": "code",
   "execution_count": null,
   "metadata": {},
   "outputs": [],
   "source": []
  },
  {
   "cell_type": "code",
   "execution_count": null,
   "metadata": {},
   "outputs": [],
   "source": []
  },
  {
   "cell_type": "code",
   "execution_count": null,
   "metadata": {},
   "outputs": [],
   "source": []
  }
 ],
 "metadata": {
  "kernelspec": {
   "display_name": "Python 3",
   "language": "python",
   "name": "python3"
  },
  "language_info": {
   "codemirror_mode": {
    "name": "ipython",
    "version": 3
   },
   "file_extension": ".py",
   "mimetype": "text/x-python",
   "name": "python",
   "nbconvert_exporter": "python",
   "pygments_lexer": "ipython3",
   "version": "3.7.3"
  }
 },
 "nbformat": 4,
 "nbformat_minor": 2
}
