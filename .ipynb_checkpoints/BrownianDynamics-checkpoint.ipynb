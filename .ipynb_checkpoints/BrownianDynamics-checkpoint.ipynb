{
 "cells": [
  {
   "cell_type": "markdown",
   "metadata": {},
   "source": [
    "# Brownian Dynamics"
   ]
  },
  {
   "cell_type": "code",
   "execution_count": 24,
   "metadata": {},
   "outputs": [],
   "source": [
    "from math import pi, sqrt\n",
    "import matplotlib.pyplot as plt\n",
    "from mpl_toolkits.mplot3d import Axes3D\n",
    "import numpy as np"
   ]
  },
  {
   "cell_type": "code",
   "execution_count": 9,
   "metadata": {},
   "outputs": [],
   "source": [
    "def initial_configuration(num_of_particles, box_length, mean_distance):\n",
    "    xi = []\n",
    "    yi = []\n",
    "    zi = []\n",
    "    \n",
    "    xi.append(0.5 * (mean_distance - box_length))\n",
    "    yi.append(0.5 * (mean_distance - box_length))\n",
    "    zi.append(0.5 * (mean_distance - box_length))\n",
    "    \n",
    "    for i in range(1, num_of_particles):\n",
    "        x = xi[i - 1] + mean_distance\n",
    "        y = yi[i - 1]\n",
    "        z = zi[i - 1]\n",
    "        \n",
    "        if x > 0.5 * box_length:\n",
    "            x = xi[0]\n",
    "            y = yi[i - 1] + mean_distance\n",
    "            \n",
    "            if y > 0.5 * box_length:\n",
    "                x = xi[0]\n",
    "                y = yi[0]\n",
    "                z = zi[i - 1] + mean_distance\n",
    "            \n",
    "        xi.append(x)\n",
    "        yi.append(y)\n",
    "        zi.append(z)\n",
    "        \n",
    "    return xi, yi, zi"
   ]
  },
  {
   "cell_type": "code",
   "execution_count": 25,
   "metadata": {},
   "outputs": [],
   "source": [
    "def hard_sphere(r, rx, ry, rz, lr, la, a2, epi):\n",
    "    if r < (lr / la)**(1.0 / (lr - la)):\n",
    "        potential_energy = (a2 / epi) * ((1.0 / r)**lr - (1.0 / r)**la) + 1.0 / epi\n",
    "        f = lr * (1.0 / r)**(lr + 1.0) - la * (1.0 / r)**(la + 1.0)\n",
    "        f *= a2 / epi\n",
    "    else:\n",
    "        potential_energy = 0.0\n",
    "        f = 0.0\n",
    "    fx = f * rx / r\n",
    "    fy = f * ry / r\n",
    "    fz = f * rz / r\n",
    "    \n",
    "    return potential_energy, fx, fy, fz"
   ]
  },
  {
   "cell_type": "code",
   "execution_count": null,
   "metadata": {},
   "outputs": [],
   "source": [
    "def force(x, y, z, num_of_particles, box_length, cut_ratio):\n",
    "    x_force = np.zeros(num_of_particles)\n",
    "    y_force = np.zeros(num_of_particles)\n",
    "    z_force = np.zeros(num_of_particles)\n",
    "    energy = 0.0\n",
    "    \n",
    "    for i in range(num_of_particles):\n",
    "        for j in range(i + 1, num_of_particles):\n",
    "            potential_energy = 0.0\n",
    "            ij_force = 0.0\n",
    "            xij_force = 0.0\n",
    "            yij_force = 0.0\n",
    "            zij_force = 0.0\n",
    "            xij = x[i] - x[j]\n",
    "            yij = y[i] - y[j]\n",
    "            zij = z[i] - z[j]\n",
    "            xij -= box_length * round(xij / box_length)\n",
    "            yij -= box_length * round(yij / box_length)\n",
    "            zij -= box_length * round(zij / box_length)\n",
    "            rij2 = xij**2 + yij**2 + zij**2\n",
    "            rij = sqrt(rij2)\n",
    "            \n",
    "            if rij <= cut_ratio:\n",
    "                "
   ]
  },
  {
   "cell_type": "code",
   "execution_count": null,
   "metadata": {},
   "outputs": [],
   "source": [
    "c pair contribution\n",
    "      do i=1,np-1 \n",
    "         do j=i+1,np\n",
    "            uij=0.d0\n",
    "            fij=0.d0\n",
    "            fxij=0.d0\n",
    "            fyij=0.d0\n",
    "            fzij=0.d0\n",
    "            xij=x(i)-x(j)\n",
    "            yij=y(i)-y(j)\n",
    "\t\t    zij=z(i)-z(j)\n",
    "            xij=xij-boxl*dnint(xij/boxl) \n",
    "            yij=yij-boxl*dnint(yij/boxl) \n",
    "\t        zij=zij-boxl*dnint(zij/boxl)\n",
    "            rij2=xij*xij+yij*yij+zij*zij\n",
    "            rij=dsqrt(rij2) \n",
    "            if (rij .lt. rc) then\n",
    "               call hardsphere(rij,uij,xij,yij,zij,fxij,fyij,fzij)\n",
    "               ener=ener+uij\n",
    "               fx(i)=fx(i)+fxij \n",
    "               fy(i)=fy(i)+fyij\n",
    "\t           fz(i)=fz(i)+fzij\n",
    "               fx(j)=fx(j)-fxij \n",
    "               fy(j)=fy(j)-fyij\n",
    "\t           fz(j)=fz(j)-fzij\n",
    "            endif \n",
    "         enddo \n",
    "      enddo\n",
    "      return\n",
    "      end"
   ]
  },
  {
   "cell_type": "code",
   "execution_count": 27,
   "metadata": {},
   "outputs": [],
   "source": [
    "num_of_particles = 2**3 # Must be a cube\n",
    "packing_fraction = 0.2\n",
    "l_repulsive = 50.0\n",
    "l_attractive = 49.0\n",
    "epi = 1.4737\n",
    "diameter = 6.0 * packing_fraction / pi\n",
    "mean_distance = diameter**(-1.0 / 3.0)\n",
    "box_length = (num_of_particles / diameter)**(1.0 / 3.0)\n",
    "a2 = (l_repulsive / (l_repulsive - l_attractive)) * \\\n",
    "     (l_repulsive / l_attractive)**(l_attractive / (l_repulsive - l_attractive)) "
   ]
  },
  {
   "cell_type": "code",
   "execution_count": 10,
   "metadata": {},
   "outputs": [],
   "source": [
    "xi, yi, zi = initial_configuration(num_of_particles, box_length, mean_distance)"
   ]
  },
  {
   "cell_type": "code",
   "execution_count": null,
   "metadata": {},
   "outputs": [],
   "source": []
  }
 ],
 "metadata": {
  "kernelspec": {
   "display_name": "Python 3",
   "language": "python",
   "name": "python3"
  },
  "language_info": {
   "codemirror_mode": {
    "name": "ipython",
    "version": 3
   },
   "file_extension": ".py",
   "mimetype": "text/x-python",
   "name": "python",
   "nbconvert_exporter": "python",
   "pygments_lexer": "ipython3",
   "version": "3.7.3"
  }
 },
 "nbformat": 4,
 "nbformat_minor": 2
}
