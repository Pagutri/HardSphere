{
 "cells": [
  {
   "cell_type": "markdown",
   "metadata": {},
   "source": [
    "# Structure Factor for Hard-Sphere Binary Mixtures\n",
    "\n",
    "In this code, I make use of the results from  J. Chem. Phys. 52, 4559 (1970); https://doi.org/10.1063/1.1673684\n",
    "\n",
    "The referenced equations are those from the paper."
   ]
  },
  {
   "cell_type": "code",
   "execution_count": 15,
   "metadata": {},
   "outputs": [],
   "source": [
    "from math import pi\n",
    "import numpy as np\n",
    "import cmath"
   ]
  },
  {
   "cell_type": "code",
   "execution_count": 3,
   "metadata": {},
   "outputs": [],
   "source": [
    "# Densities given eta0 = 0.2, eta1 = 0.3\n",
    "density = np.array([0.38, 0.02])\n",
    "diameter = np.array([1.0, 3.0])"
   ]
  },
  {
   "cell_type": "code",
   "execution_count": 4,
   "metadata": {},
   "outputs": [],
   "source": [
    "# Equation 42\n",
    "xi2 = (pi / 6.0) * np.sum(density * diameter**2)\n",
    "xi3 = (pi / 6.0) * np.sum(density * diameter**3)"
   ]
  },
  {
   "cell_type": "code",
   "execution_count": 53,
   "metadata": {},
   "outputs": [],
   "source": [
    "# Equations 40 and 41\n",
    "a = (1.0 - xi3 + 3.0 * diameter * xi2) / (1.0 - xi3)**2\n",
    "b = (-3.0) * diameter**2 * xi2 / (2.0 * (1.0 - xi3)**2)"
   ]
  },
  {
   "cell_type": "code",
   "execution_count": 31,
   "metadata": {},
   "outputs": [],
   "source": [
    "def funcion_largota(a, b, k, R_alpha, R_beta):\n",
    "    R = 0.5 * (R_alpha + R_beta)\n",
    "    S = 0.5 * (R_alpha - R_beta)\n",
    "    term1 = np.cos(k * R) + np.sin(k * R) * 1.0j\n",
    "    term2 = ((a / ((k**3) * 2.0j)) * (k * R * 2.0j - 2.0) + (b / k**2))\n",
    "    term3 = np.cos(k * S) + np.sin(k * S) * 1.0j\n",
    "    term4 = (a / ((k**3) * 2.0j)) * ((k * S)**2 + k * S * 2.0j - 2.0)\n",
    "    term5 = (b / k**2) * (1.0 - k * S * 1.0j)\n",
    "    term6 = (a * R**2 + 2.0 * b * R) / (k * 2.0j)\n",
    "    \n",
    "    return term1 * term2 - term3 * (term4 + term5 - term6)"
   ]
  },
  {
   "cell_type": "code",
   "execution_count": 70,
   "metadata": {},
   "outputs": [],
   "source": [
    "R1, R2 = np.meshgrid(diameter, diameter)\n",
    "a1, a2 = np.meshgrid(a, a)\n",
    "b1, b2 = np.meshgrid(b, b)"
   ]
  },
  {
   "cell_type": "code",
   "execution_count": 74,
   "metadata": {},
   "outputs": [
    {
     "data": {
      "text/plain": [
       "array([[ -0.81462923 -0.3556968j ,  -0.40032916 -2.32019455j],\n",
       "       [-11.49997583 -4.32268563j,  -7.24151202-29.17511786j]])"
      ]
     },
     "execution_count": 74,
     "metadata": {},
     "output_type": "execute_result"
    }
   ],
   "source": [
    "funcion_largota(a1, b1, 1.0, R1, R2)"
   ]
  },
  {
   "cell_type": "code",
   "execution_count": null,
   "metadata": {},
   "outputs": [],
   "source": []
  }
 ],
 "metadata": {
  "kernelspec": {
   "display_name": "Python 3",
   "language": "python",
   "name": "python3"
  },
  "language_info": {
   "codemirror_mode": {
    "name": "ipython",
    "version": 3
   },
   "file_extension": ".py",
   "mimetype": "text/x-python",
   "name": "python",
   "nbconvert_exporter": "python",
   "pygments_lexer": "ipython3",
   "version": "3.7.3"
  }
 },
 "nbformat": 4,
 "nbformat_minor": 2
}
