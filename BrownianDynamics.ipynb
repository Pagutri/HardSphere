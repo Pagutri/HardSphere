{
 "cells": [
  {
   "cell_type": "markdown",
   "metadata": {},
   "source": [
    "# Brownian Dynamics"
   ]
  },
  {
   "cell_type": "code",
   "execution_count": 1,
   "metadata": {},
   "outputs": [],
   "source": [
    "from math import pi, sqrt\n",
    "import matplotlib.pyplot as plt\n",
    "from mpl_toolkits.mplot3d import Axes3D\n",
    "import numpy as np\n",
    "import random as rnd"
   ]
  },
  {
   "cell_type": "code",
   "execution_count": 2,
   "metadata": {},
   "outputs": [],
   "source": [
    "# These are the only variables that we have to set\n",
    "num_of_particles = 6**3 # Must be a cube\n",
    "packing_fraction = 0.2\n",
    "time_window = 100000\n",
    "r_partition = 2**8\n",
    "delta_t = 0.00001\n",
    "therm_time = 200000\n",
    "iseed = 1234567890"
   ]
  },
  {
   "cell_type": "code",
   "execution_count": 3,
   "metadata": {},
   "outputs": [],
   "source": [
    "# Constants\n",
    "l_repulsive = 50.0\n",
    "l_attractive = 49.0\n",
    "epi = 1.4737\n",
    "pbc = 1.0 # Periodic boundary condition\n",
    "diameter = 6.0 * packing_fraction / pi\n",
    "mean_distance = diameter**(-1.0 / 3.0)\n",
    "box_length = (num_of_particles / diameter)**(1.0 / 3.0)\n",
    "a2 = (l_repulsive / (l_repulsive - l_attractive)) * \\\n",
    "     (l_repulsive / l_attractive)**(l_attractive / (l_repulsive - l_attractive))\n",
    "cut_ratio = 0.5 * box_length\n",
    "dr = cut_ratio / r_partition\n",
    "\n",
    "# ????\n",
    "ncep = 10\n",
    "ncp = 1000000\n",
    "nprom = 0\n",
    "nconf = ncp"
   ]
  },
  {
   "cell_type": "code",
   "execution_count": 6,
   "metadata": {},
   "outputs": [],
   "source": [
    "# Physical variables\n",
    "x = np.zeros(num_of_particles)\n",
    "y = np.zeros(num_of_particles)\n",
    "z = np.zeros(num_of_particles)\n",
    "x_force = np.zeros(num_of_particles)\n",
    "y_force = np.zeros(num_of_particles)\n",
    "z_force = np.zeros(num_of_particles)\n",
    "\n",
    "r = np.zeros(r_partition)\n",
    "g = np.zeros(r_partition) # radial distribution function\n",
    "q = np.zeros(r_partition) # wave vector\n",
    "sq = np.zeros(r_partition) # structure factor\n",
    "h = np.zeros(r_partition) # Fourier transform of g - 1\n",
    "\n",
    "t = np.zeros(time_window)\n",
    "wt = np.zeros(time_window) # mean squared displacement\n",
    "ft = np.zeros(time_window) # Función de distribución intermedia auto\n",
    "\n",
    "# Coordenadas i-ésima partícula al tiempo t\n",
    "cfx = np.zeros((time_window, num_of_particles))\n",
    "cfy = np.zeros((time_window, num_of_particles))\n",
    "cfz = np.zeros((time_window, num_of_particles))"
   ]
  },
  {
   "cell_type": "code",
   "execution_count": 7,
   "metadata": {},
   "outputs": [],
   "source": [
    "def initial_configuration(num_of_particles, box_length, mean_distance):\n",
    "    xi = []\n",
    "    yi = []\n",
    "    zi = []\n",
    "    \n",
    "    xi.append(0.5 * (mean_distance - box_length))\n",
    "    yi.append(0.5 * (mean_distance - box_length))\n",
    "    zi.append(0.5 * (mean_distance - box_length))\n",
    "    \n",
    "    for i in range(1, num_of_particles):\n",
    "        x = xi[i - 1] + mean_distance\n",
    "        y = yi[i - 1]\n",
    "        z = zi[i - 1]\n",
    "        \n",
    "        if x > 0.5 * box_length:\n",
    "            x = xi[0]\n",
    "            y = yi[i - 1] + mean_distance\n",
    "            \n",
    "            if y > 0.5 * box_length:\n",
    "                x = xi[0]\n",
    "                y = yi[0]\n",
    "                z = zi[i - 1] + mean_distance\n",
    "            \n",
    "        xi.append(x)\n",
    "        yi.append(y)\n",
    "        zi.append(z)\n",
    "        \n",
    "    return xi, yi, zi"
   ]
  },
  {
   "cell_type": "code",
   "execution_count": 8,
   "metadata": {},
   "outputs": [],
   "source": [
    "def hard_sphere(r, rx, ry, rz, lr, la, a2, epi):\n",
    "    if r < (lr / la)**(1.0 / (lr - la)):\n",
    "        potential_energy = (a2 / epi) * ((1.0 / r)**lr - (1.0 / r)**la) + 1.0 / epi\n",
    "        f = lr * (1.0 / r)**(lr + 1.0) - la * (1.0 / r)**(la + 1.0)\n",
    "        f *= a2 / epi\n",
    "    else:\n",
    "        potential_energy = 0.0\n",
    "        f = 0.0\n",
    "    fx = f * rx / r\n",
    "    fy = f * ry / r\n",
    "    fz = f * rz / r\n",
    "    \n",
    "    return potential_energy, fx, fy, fz"
   ]
  },
  {
   "cell_type": "code",
   "execution_count": 9,
   "metadata": {},
   "outputs": [],
   "source": [
    "def force(x, y, z, fx, fy, fz, box_length, cut_ratio, lr, la, a2, epi):\n",
    "    num_of_particles = len(x)\n",
    "    fx = np.zeros(num_of_particles)\n",
    "    fy = np.zeros(num_of_particles)\n",
    "    fz = np.zeros(num_of_particles)\n",
    "    energy = 0.0\n",
    "    \n",
    "    for i in range(num_of_particles):\n",
    "        for j in range(i + 1, num_of_particles):\n",
    "            xij = x[i] - x[j]\n",
    "            yij = y[i] - y[j]\n",
    "            zij = z[i] - z[j]\n",
    "            xij -= box_length * round(xij / box_length)\n",
    "            yij -= box_length * round(yij / box_length)\n",
    "            zij -= box_length * round(zij / box_length)\n",
    "            rij2 = xij**2 + yij**2 + zij**2\n",
    "            rij = sqrt(rij2)\n",
    "            \n",
    "            if rij < cut_ratio:\n",
    "                uij, fxij, fyij, fzij = hard_sphere(rij, xij, yij, zij, lr, la, a2, epi)\n",
    "                energy += uij\n",
    "                fx[i] += fxij\n",
    "                fy[i] += fyij\n",
    "                fz[i] += fzij\n",
    "                fx[j] -= fxij\n",
    "                fy[j] -= fyij\n",
    "                fz[j] -= fzij\n",
    "                \n",
    "    return energy, fx, fy, fz"
   ]
  },
  {
   "cell_type": "code",
   "execution_count": 10,
   "metadata": {},
   "outputs": [],
   "source": [
    "def position(num_of_particles, box_length, x, y, z, fx, fy, fz, delta_t, pbc, my_seed):\n",
    "    std_dev = 1.0\n",
    "    mean = 0.0\n",
    "    sigma = sqrt(2.0 * delta_t)\n",
    "    rnd.seed(my_seed)\n",
    "    \n",
    "    for i in range(num_of_particles):\n",
    "        dx = sigma * rnd.gauss(std_dev, mean)\n",
    "        dy = sigma * rnd.gauss(std_dev, mean)\n",
    "        dz = sigma * rnd.gauss(std_dev, mean)\n",
    "        x[i] += dx + fx[i] * delta_t\n",
    "        y[i] += dy + fy[i] * delta_t\n",
    "        z[i] += dz + fz[i] * delta_t\n",
    "        \n",
    "        if pbc > 0.0:\n",
    "            x[i] -= box_length * round(x[i] / box_length)\n",
    "            y[i] -= box_length * round(y[i] / box_length)\n",
    "            z[i] -= box_length * round(z[i] / box_length)\n",
    "            \n",
    "    return x, y, z"
   ]
  },
  {
   "cell_type": "code",
   "execution_count": 11,
   "metadata": {},
   "outputs": [],
   "source": [
    "def gr(x, y, z, g, dr, num_of_particles, r_partition, boxl, rc):\n",
    "    for i in range(num_of_particles):\n",
    "        for j in range(i  +  1, num_of_particles):\n",
    "            xij = x[j] - x[i]\n",
    "            yij = y[j] - y[i]\n",
    "            zij = z[j] - z[i]\n",
    "            xij = xij - boxl * round(xij / boxl)\n",
    "            yij = yij - boxl * round(yij / boxl)\n",
    "            zij = zij - boxl * round(zij / boxl)\n",
    "            rij2 = xij * xij + yij * yij + zij * zij\n",
    "            rij = sqrt(rij2)\n",
    "            \n",
    "            if rij < rc:\n",
    "                nbin = int(rij / dr) + 1\n",
    "                if nbin <= r_partition:\n",
    "                    g[nbin] += 2.0"
   ]
  },
  {
   "cell_type": "code",
   "execution_count": 12,
   "metadata": {},
   "outputs": [],
   "source": [
    "x, y, z = initial_configuration(num_of_particles, box_length, mean_distance)"
   ]
  },
  {
   "cell_type": "code",
   "execution_count": 15,
   "metadata": {},
   "outputs": [],
   "source": [
    "energy, x_force, y_force, z_force = force(x, y, z, x_force, y_force, z_force,\n",
    "                                          box_length, cut_ratio, l_repulsive, l_attractive, a2, epi)"
   ]
  },
  {
   "cell_type": "code",
   "execution_count": 16,
   "metadata": {
    "scrolled": true
   },
   "outputs": [
    {
     "name": "stdout",
     "output_type": "stream",
     "text": [
      "initial energy: 0.0\n"
     ]
    }
   ],
   "source": [
    "print(\"initial energy:\", energy / num_of_particles)"
   ]
  },
  {
   "cell_type": "code",
   "execution_count": 19,
   "metadata": {
    "scrolled": true
   },
   "outputs": [
    {
     "data": {
      "text/plain": [
       "Text(0.5, 0, 'Z')"
      ]
     },
     "execution_count": 19,
     "metadata": {},
     "output_type": "execute_result"
    },
    {
     "data": {
      "image/png": "[encoded data removed]",
      "text/plain": [
       "<Figure size 432x288 with 1 Axes>"
      ]
     },
     "metadata": {
      "needs_background": "light"
     },
     "output_type": "display_data"
    }
   ],
   "source": [
    "fig = plt.figure()\n",
    "ax = fig.add_subplot(111, projection='3d')\n",
    "ax.scatter(x, y, z, c = 'b', marker = '.') \n",
    "ax.set_xlabel('X')\n",
    "ax.set_ylabel('Y')\n",
    "ax.set_zlabel('Z')"
   ]
  },
  {
   "cell_type": "code",
   "execution_count": 20,
   "metadata": {
    "scrolled": true
   },
   "outputs": [
    {
     "name": "stdout",
     "output_type": "stream",
     "text": [
      "0 0.0 Thermalization\n",
      "1000 0.0 Thermalization\n"
     ]
    },
    {
     "ename": "KeyboardInterrupt",
     "evalue": "",
     "output_type": "error",
     "traceback": [
      "\u001b[0;31m---------------------------------------------------------------------------\u001b[0m",
      "\u001b[0;31mKeyboardInterrupt\u001b[0m                         Traceback (most recent call last)",
      "\u001b[0;32m<ipython-input-20-08ed8ec101cc>\u001b[0m in \u001b[0;36m<module>\u001b[0;34m\u001b[0m\n\u001b[1;32m      1\u001b[0m \u001b[0;32mfor\u001b[0m \u001b[0mT\u001b[0m \u001b[0;32min\u001b[0m \u001b[0mrange\u001b[0m\u001b[0;34m(\u001b[0m\u001b[0mtherm_time\u001b[0m\u001b[0;34m)\u001b[0m\u001b[0;34m:\u001b[0m\u001b[0;34m\u001b[0m\u001b[0;34m\u001b[0m\u001b[0m\n\u001b[1;32m      2\u001b[0m     \u001b[0mx\u001b[0m\u001b[0;34m,\u001b[0m \u001b[0my\u001b[0m\u001b[0;34m,\u001b[0m \u001b[0mz\u001b[0m \u001b[0;34m=\u001b[0m \u001b[0mposition\u001b[0m\u001b[0;34m(\u001b[0m\u001b[0mnum_of_particles\u001b[0m\u001b[0;34m,\u001b[0m \u001b[0mbox_length\u001b[0m\u001b[0;34m,\u001b[0m \u001b[0mx\u001b[0m\u001b[0;34m,\u001b[0m \u001b[0my\u001b[0m\u001b[0;34m,\u001b[0m \u001b[0mz\u001b[0m\u001b[0;34m,\u001b[0m \u001b[0mx_force\u001b[0m\u001b[0;34m,\u001b[0m \u001b[0my_force\u001b[0m\u001b[0;34m,\u001b[0m \u001b[0mz_force\u001b[0m\u001b[0;34m,\u001b[0m \u001b[0mdelta_t\u001b[0m\u001b[0;34m,\u001b[0m \u001b[0mpbc\u001b[0m\u001b[0;34m,\u001b[0m \u001b[0miseed\u001b[0m\u001b[0;34m)\u001b[0m\u001b[0;34m\u001b[0m\u001b[0;34m\u001b[0m\u001b[0m\n\u001b[0;32m----> 3\u001b[0;31m     \u001b[0menergy\u001b[0m\u001b[0;34m,\u001b[0m \u001b[0mx_force\u001b[0m\u001b[0;34m,\u001b[0m \u001b[0my_force\u001b[0m\u001b[0;34m,\u001b[0m \u001b[0mz_force\u001b[0m \u001b[0;34m=\u001b[0m \u001b[0mforce\u001b[0m\u001b[0;34m(\u001b[0m\u001b[0mx\u001b[0m\u001b[0;34m,\u001b[0m \u001b[0my\u001b[0m\u001b[0;34m,\u001b[0m \u001b[0mz\u001b[0m\u001b[0;34m,\u001b[0m \u001b[0mx_force\u001b[0m\u001b[0;34m,\u001b[0m \u001b[0my_force\u001b[0m\u001b[0;34m,\u001b[0m \u001b[0mz_force\u001b[0m\u001b[0;34m,\u001b[0m \u001b[0mbox_length\u001b[0m\u001b[0;34m,\u001b[0m \u001b[0mcut_ratio\u001b[0m\u001b[0;34m,\u001b[0m \u001b[0ml_repulsive\u001b[0m\u001b[0;34m,\u001b[0m \u001b[0ml_attractive\u001b[0m\u001b[0;34m,\u001b[0m \u001b[0ma2\u001b[0m\u001b[0;34m,\u001b[0m \u001b[0mepi\u001b[0m\u001b[0;34m)\u001b[0m\u001b[0;34m\u001b[0m\u001b[0;34m\u001b[0m\u001b[0m\n\u001b[0m\u001b[1;32m      4\u001b[0m     \u001b[0mepotn\u001b[0m \u001b[0;34m=\u001b[0m \u001b[0menergy\u001b[0m \u001b[0;34m/\u001b[0m \u001b[0mnum_of_particles\u001b[0m\u001b[0;34m\u001b[0m\u001b[0;34m\u001b[0m\u001b[0m\n\u001b[1;32m      5\u001b[0m     \u001b[0;32mif\u001b[0m \u001b[0mT\u001b[0m\u001b[0;34m%\u001b[0m\u001b[0;36m1000\u001b[0m \u001b[0;34m==\u001b[0m \u001b[0;36m0\u001b[0m\u001b[0;34m:\u001b[0m\u001b[0;34m\u001b[0m\u001b[0;34m\u001b[0m\u001b[0m\n",
      "\u001b[0;32m<ipython-input-9-681e9e4e17a5>\u001b[0m in \u001b[0;36mforce\u001b[0;34m(x, y, z, fx, fy, fz, box_length, cut_ratio, lr, la, a2, epi)\u001b[0m\n\u001b[1;32m     21\u001b[0m                 \u001b[0menergy\u001b[0m \u001b[0;34m+=\u001b[0m \u001b[0muij\u001b[0m\u001b[0;34m\u001b[0m\u001b[0;34m\u001b[0m\u001b[0m\n\u001b[1;32m     22\u001b[0m                 \u001b[0mfx\u001b[0m\u001b[0;34m[\u001b[0m\u001b[0mi\u001b[0m\u001b[0;34m]\u001b[0m \u001b[0;34m+=\u001b[0m \u001b[0mfxij\u001b[0m\u001b[0;34m\u001b[0m\u001b[0;34m\u001b[0m\u001b[0m\n\u001b[0;32m---> 23\u001b[0;31m                 \u001b[0mfy\u001b[0m\u001b[0;34m[\u001b[0m\u001b[0mi\u001b[0m\u001b[0;34m]\u001b[0m \u001b[0;34m+=\u001b[0m \u001b[0mfyij\u001b[0m\u001b[0;34m\u001b[0m\u001b[0;34m\u001b[0m\u001b[0m\n\u001b[0m\u001b[1;32m     24\u001b[0m                 \u001b[0mfz\u001b[0m\u001b[0;34m[\u001b[0m\u001b[0mi\u001b[0m\u001b[0;34m]\u001b[0m \u001b[0;34m+=\u001b[0m \u001b[0mfzij\u001b[0m\u001b[0;34m\u001b[0m\u001b[0;34m\u001b[0m\u001b[0m\n\u001b[1;32m     25\u001b[0m                 \u001b[0mfx\u001b[0m\u001b[0;34m[\u001b[0m\u001b[0mj\u001b[0m\u001b[0;34m]\u001b[0m \u001b[0;34m-=\u001b[0m \u001b[0mfxij\u001b[0m\u001b[0;34m\u001b[0m\u001b[0;34m\u001b[0m\u001b[0m\n",
      "\u001b[0;31mKeyboardInterrupt\u001b[0m: "
     ]
    }
   ],
   "source": [
    "for T in range(therm_time):\n",
    "    x, y, z = position(num_of_particles, box_length, x, y, z, x_force, y_force, z_force, delta_t, pbc, iseed)\n",
    "    energy, x_force, y_force, z_force = force(x, y, z, x_force, y_force, z_force, box_length, cut_ratio, l_repulsive, l_attractive, a2, epi)\n",
    "    epotn = energy / num_of_particles\n",
    "    if T%1000 == 0:\n",
    "        print(T, epotn, 'Thermalization')"
   ]
  },
  {
   "cell_type": "code",
   "execution_count": null,
   "metadata": {},
   "outputs": [],
   "source": [
    "pbc = 0.0\n",
    "\n",
    "for i in range(nconf):\n",
    "    x, y, z = position(num_of_particles, box_length, x, y, z, x_force, y_force, z_force, delta_t, pbc, iseed)\n",
    "    energy, x_force, y_force, z_force = force(x, y, z, box_length, cut_ratio, l_repulsive, l_attractive, a2, epi)\n",
    "    epotn = energy / num_of_particles\n",
    "    if i%10000 == 0:\n",
    "        print(i, epotn / num_of_particles, 'Average')\n",
    "    if i%ncep == 0:\n",
    "        nprom += 1\n",
    "        t[nprom] = delta_t * ncep * (nprom - 1)\n",
    "        for j in range(num_of_particles):\n",
    "            cfx[nprom][j] = x[j]\n",
    "            cfy[nprom][j] = y[j]\n",
    "            cfz[nprom][j] = z[j]\n",
    "        gr(x, y, z, g, dr, num_of_particles, r_partition, box_length, cut_ratio)"
   ]
  },
  {
   "cell_type": "code",
   "execution_count": null,
   "metadata": {},
   "outputs": [],
   "source": []
  }
 ],
 "metadata": {
  "kernelspec": {
   "display_name": "Python 3",
   "language": "python",
   "name": "python3"
  },
  "language_info": {
   "codemirror_mode": {
    "name": "ipython",
    "version": 3
   },
   "file_extension": ".py",
   "mimetype": "text/x-python",
   "name": "python",
   "nbconvert_exporter": "python",
   "pygments_lexer": "ipython3",
   "version": "3.7.3"
  }
 },
 "nbformat": 4,
 "nbformat_minor": 2
}
