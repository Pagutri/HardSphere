{
 "cells": [
  {
   "cell_type": "markdown",
   "metadata": {},
   "source": [
    "# Brownian Dynamics"
   ]
  },
  {
   "cell_type": "code",
   "execution_count": 13,
   "metadata": {},
   "outputs": [],
   "source": [
    "from math import pi, sqrt\n",
    "import matplotlib.pyplot as plt\n",
    "from mpl_toolkits.mplot3d import Axes3D\n",
    "import numpy as np\n",
    "import random as rnd"
   ]
  },
  {
   "cell_type": "code",
   "execution_count": 2,
   "metadata": {},
   "outputs": [],
   "source": [
    "def initial_configuration(num_of_particles, box_length, mean_distance):\n",
    "    xi = []\n",
    "    yi = []\n",
    "    zi = []\n",
    "    \n",
    "    xi.append(0.5 * (mean_distance - box_length))\n",
    "    yi.append(0.5 * (mean_distance - box_length))\n",
    "    zi.append(0.5 * (mean_distance - box_length))\n",
    "    \n",
    "    for i in range(1, num_of_particles):\n",
    "        x = xi[i - 1] + mean_distance\n",
    "        y = yi[i - 1]\n",
    "        z = zi[i - 1]\n",
    "        \n",
    "        if x > 0.5 * box_length:\n",
    "            x = xi[0]\n",
    "            y = yi[i - 1] + mean_distance\n",
    "            \n",
    "            if y > 0.5 * box_length:\n",
    "                x = xi[0]\n",
    "                y = yi[0]\n",
    "                z = zi[i - 1] + mean_distance\n",
    "            \n",
    "        xi.append(x)\n",
    "        yi.append(y)\n",
    "        zi.append(z)\n",
    "        \n",
    "    return xi, yi, zi"
   ]
  },
  {
   "cell_type": "code",
   "execution_count": 3,
   "metadata": {},
   "outputs": [],
   "source": [
    "def hard_sphere(r, rx, ry, rz, lr, la, a2, epi):\n",
    "    if r < (lr / la)**(1.0 / (lr - la)):\n",
    "        potential_energy = (a2 / epi) * ((1.0 / r)**lr - (1.0 / r)**la) + 1.0 / epi\n",
    "        f = lr * (1.0 / r)**(lr + 1.0) - la * (1.0 / r)**(la + 1.0)\n",
    "        f *= a2 / epi\n",
    "    else:\n",
    "        potential_energy = 0.0\n",
    "        f = 0.0\n",
    "    fx = f * rx / r\n",
    "    fy = f * ry / r\n",
    "    fz = f * rz / r\n",
    "    \n",
    "    return potential_energy, fx, fy, fz"
   ]
  },
  {
   "cell_type": "code",
   "execution_count": 4,
   "metadata": {},
   "outputs": [],
   "source": [
    "def force(x, y, z, box_length, cut_ratio, lr, la, a2, epi):\n",
    "    num_of_particles = len(x)\n",
    "    x_force = np.zeros(num_of_particles)\n",
    "    y_force = np.zeros(num_of_particles)\n",
    "    z_force = np.zeros(num_of_particles)\n",
    "    energy = 0.0\n",
    "    \n",
    "    for i in range(num_of_particles):\n",
    "        for j in range(i + 1, num_of_particles):\n",
    "            xij = x[i] - x[j]\n",
    "            yij = y[i] - y[j]\n",
    "            zij = z[i] - z[j]\n",
    "            xij -= box_length * round(xij / box_length)\n",
    "            yij -= box_length * round(yij / box_length)\n",
    "            zij -= box_length * round(zij / box_length)\n",
    "            rij2 = xij**2 + yij**2 + zij**2\n",
    "            rij = sqrt(rij2)\n",
    "            \n",
    "            if rij < cut_ratio:\n",
    "                uij, fxij, fyij, fzij = hard_sphere(rij, xij, yij, zij, lr, la, a2, epi)\n",
    "                energy += uij\n",
    "                x_force[i] += fxij\n",
    "                y_force[i] += fyij\n",
    "                z_force[i] += fzij\n",
    "                x_force[j] -= fxij\n",
    "                y_force[j] -= fyij\n",
    "                z_force[j] -= fzij\n",
    "                \n",
    "    return energy, x_force, y_force, z_force"
   ]
  },
  {
   "cell_type": "code",
   "execution_count": 14,
   "metadata": {},
   "outputs": [],
   "source": [
    "def position(num_of_particles, box_length, x, y, z, fx, fy, fz, delta_t, pbc, my_seed):\n",
    "    std_dev = 1.0\n",
    "    mean = 0.0\n",
    "    sigma = sqrt(2.0 * delta_t)\n",
    "    rnd.seed(my_seed)\n",
    "    \n",
    "    for i in range(num_of_particles):\n",
    "        dx = sigma * rnd.gauss(std_dev, mean)\n",
    "        dy = sigma * rnd.gauss(std_dev, mean)\n",
    "        dz = sigma * rnd.gauss(std_dev, mean)\n",
    "        x[i] += dx + fx[i] * delta_t\n",
    "        y[i] += dy + fy[i] * delta_t\n",
    "        z[i] += dz + fz[i] * delta_t\n",
    "        \n",
    "        if pbc > 0.0:\n",
    "            x[i] -= box_length * round(x[i] / box_length)\n",
    "            y[i] -= box_length * round(y[i] / box_length)\n",
    "            z[i] -= box_length * round(z[i] / box_length)\n",
    "            \n",
    "    return x, y, z"
   ]
  },
  {
   "cell_type": "code",
   "execution_count": 27,
   "metadata": {},
   "outputs": [],
   "source": [
    "num_of_particles = 3**3 # Must be a cube\n",
    "packing_fraction = 0.2\n",
    "l_repulsive = 50.0\n",
    "l_attractive = 49.0\n",
    "epi = 1.4737\n",
    "pbc = 1.0 # Periodic boundary condition\n",
    "delta_t = 0.00001\n",
    "therm_time = 250000\n",
    "iseed = 1234567890\n",
    "diameter = 6.0 * packing_fraction / pi\n",
    "mean_distance = diameter**(-1.0 / 3.0)\n",
    "box_length = (num_of_particles / diameter)**(1.0 / 3.0)\n",
    "a2 = (l_repulsive / (l_repulsive - l_attractive)) * \\\n",
    "     (l_repulsive / l_attractive)**(l_attractive / (l_repulsive - l_attractive))\n",
    "cut_ratio = 0.5 * box_length"
   ]
  },
  {
   "cell_type": "code",
   "execution_count": 28,
   "metadata": {},
   "outputs": [],
   "source": [
    "x, y, z = initial_configuration(num_of_particles, box_length, mean_distance)"
   ]
  },
  {
   "cell_type": "code",
   "execution_count": 29,
   "metadata": {},
   "outputs": [],
   "source": [
    "energy, x_force, y_force, z_force = force(x, y, z, box_length, cut_ratio, l_repulsive, l_attractive, a2, epi)"
   ]
  },
  {
   "cell_type": "code",
   "execution_count": 30,
   "metadata": {
    "scrolled": true
   },
   "outputs": [
    {
     "name": "stdout",
     "output_type": "stream",
     "text": [
      "initial energy: 0.0\n"
     ]
    }
   ],
   "source": [
    "print(\"initial energy:\", energy / num_of_particles)"
   ]
  },
  {
   "cell_type": "code",
   "execution_count": 31,
   "metadata": {},
   "outputs": [
    {
     "data": {
      "text/plain": [
       "Text(0.5, 0, 'Z')"
      ]
     },
     "execution_count": 31,
     "metadata": {},
     "output_type": "execute_result"
    },
    {
     "data": {
      "image/png": "[encoded data removed]",
      "text/plain": [
       "<Figure size 432x288 with 1 Axes>"
      ]
     },
     "metadata": {
      "needs_background": "light"
     },
     "output_type": "display_data"
    }
   ],
   "source": [
    "fig = plt.figure()\n",
    "ax = fig.add_subplot(111, projection='3d')\n",
    "ax.scatter(x, y, z, c = 'b', marker = '.') \n",
    "ax.set_xlabel('X')\n",
    "ax.set_ylabel('Y')\n",
    "ax.set_zlabel('Z')"
   ]
  },
  {
   "cell_type": "code",
   "execution_count": 32,
   "metadata": {},
   "outputs": [
    {
     "name": "stdout",
     "output_type": "stream",
     "text": [
      "0 0.0 Thermalization\n",
      "10000 0.0 Thermalization\n",
      "20000 0.0 Thermalization\n",
      "30000 0.0 Thermalization\n",
      "40000 0.0 Thermalization\n",
      "50000 0.0 Thermalization\n",
      "60000 0.0 Thermalization\n",
      "70000 0.0 Thermalization\n",
      "80000 0.0 Thermalization\n",
      "90000 0.0 Thermalization\n",
      "100000 0.0 Thermalization\n",
      "110000 0.0 Thermalization\n"
     ]
    },
    {
     "ename": "KeyboardInterrupt",
     "evalue": "",
     "output_type": "error",
     "traceback": [
      "\u001b[0;31m---------------------------------------------------------------------------\u001b[0m",
      "\u001b[0;31mKeyboardInterrupt\u001b[0m                         Traceback (most recent call last)",
      "\u001b[0;32m<ipython-input-32-c79354dc2c64>\u001b[0m in \u001b[0;36m<module>\u001b[0;34m\u001b[0m\n\u001b[1;32m      1\u001b[0m \u001b[0;32mfor\u001b[0m \u001b[0mt\u001b[0m \u001b[0;32min\u001b[0m \u001b[0mrange\u001b[0m\u001b[0;34m(\u001b[0m\u001b[0mtherm_time\u001b[0m\u001b[0;34m)\u001b[0m\u001b[0;34m:\u001b[0m\u001b[0;34m\u001b[0m\u001b[0;34m\u001b[0m\u001b[0m\n\u001b[1;32m      2\u001b[0m     \u001b[0mx\u001b[0m\u001b[0;34m,\u001b[0m \u001b[0my\u001b[0m\u001b[0;34m,\u001b[0m \u001b[0mz\u001b[0m \u001b[0;34m=\u001b[0m \u001b[0mposition\u001b[0m\u001b[0;34m(\u001b[0m\u001b[0mnum_of_particles\u001b[0m\u001b[0;34m,\u001b[0m \u001b[0mbox_length\u001b[0m\u001b[0;34m,\u001b[0m \u001b[0mx\u001b[0m\u001b[0;34m,\u001b[0m \u001b[0my\u001b[0m\u001b[0;34m,\u001b[0m \u001b[0mz\u001b[0m\u001b[0;34m,\u001b[0m \u001b[0mx_force\u001b[0m\u001b[0;34m,\u001b[0m \u001b[0my_force\u001b[0m\u001b[0;34m,\u001b[0m \u001b[0mz_force\u001b[0m\u001b[0;34m,\u001b[0m \u001b[0mdelta_t\u001b[0m\u001b[0;34m,\u001b[0m \u001b[0mpbc\u001b[0m\u001b[0;34m,\u001b[0m \u001b[0miseed\u001b[0m\u001b[0;34m)\u001b[0m\u001b[0;34m\u001b[0m\u001b[0;34m\u001b[0m\u001b[0m\n\u001b[0;32m----> 3\u001b[0;31m     \u001b[0menergy\u001b[0m\u001b[0;34m,\u001b[0m \u001b[0mx_force\u001b[0m\u001b[0;34m,\u001b[0m \u001b[0my_force\u001b[0m\u001b[0;34m,\u001b[0m \u001b[0mz_force\u001b[0m \u001b[0;34m=\u001b[0m \u001b[0mforce\u001b[0m\u001b[0;34m(\u001b[0m\u001b[0mx\u001b[0m\u001b[0;34m,\u001b[0m \u001b[0my\u001b[0m\u001b[0;34m,\u001b[0m \u001b[0mz\u001b[0m\u001b[0;34m,\u001b[0m \u001b[0mbox_length\u001b[0m\u001b[0;34m,\u001b[0m \u001b[0mcut_ratio\u001b[0m\u001b[0;34m,\u001b[0m \u001b[0ml_repulsive\u001b[0m\u001b[0;34m,\u001b[0m \u001b[0ml_attractive\u001b[0m\u001b[0;34m,\u001b[0m \u001b[0ma2\u001b[0m\u001b[0;34m,\u001b[0m \u001b[0mepi\u001b[0m\u001b[0;34m)\u001b[0m\u001b[0;34m\u001b[0m\u001b[0;34m\u001b[0m\u001b[0m\n\u001b[0m\u001b[1;32m      4\u001b[0m     \u001b[0mepotn\u001b[0m \u001b[0;34m=\u001b[0m \u001b[0menergy\u001b[0m \u001b[0;34m/\u001b[0m \u001b[0mnum_of_particles\u001b[0m\u001b[0;34m\u001b[0m\u001b[0;34m\u001b[0m\u001b[0m\n\u001b[1;32m      5\u001b[0m     \u001b[0;32mif\u001b[0m \u001b[0mt\u001b[0m\u001b[0;34m%\u001b[0m\u001b[0;36m10000\u001b[0m \u001b[0;34m==\u001b[0m \u001b[0;36m0\u001b[0m\u001b[0;34m:\u001b[0m\u001b[0;34m\u001b[0m\u001b[0;34m\u001b[0m\u001b[0m\n",
      "\u001b[0;32m<ipython-input-4-f24e9f6282dd>\u001b[0m in \u001b[0;36mforce\u001b[0;34m(x, y, z, box_length, cut_ratio, lr, la, a2, epi)\u001b[0m\n\u001b[1;32m      9\u001b[0m         \u001b[0;32mfor\u001b[0m \u001b[0mj\u001b[0m \u001b[0;32min\u001b[0m \u001b[0mrange\u001b[0m\u001b[0;34m(\u001b[0m\u001b[0mi\u001b[0m \u001b[0;34m+\u001b[0m \u001b[0;36m1\u001b[0m\u001b[0;34m,\u001b[0m \u001b[0mnum_of_particles\u001b[0m\u001b[0;34m)\u001b[0m\u001b[0;34m:\u001b[0m\u001b[0;34m\u001b[0m\u001b[0;34m\u001b[0m\u001b[0m\n\u001b[1;32m     10\u001b[0m             \u001b[0mxij\u001b[0m \u001b[0;34m=\u001b[0m \u001b[0mx\u001b[0m\u001b[0;34m[\u001b[0m\u001b[0mi\u001b[0m\u001b[0;34m]\u001b[0m \u001b[0;34m-\u001b[0m \u001b[0mx\u001b[0m\u001b[0;34m[\u001b[0m\u001b[0mj\u001b[0m\u001b[0;34m]\u001b[0m\u001b[0;34m\u001b[0m\u001b[0;34m\u001b[0m\u001b[0m\n\u001b[0;32m---> 11\u001b[0;31m             \u001b[0myij\u001b[0m \u001b[0;34m=\u001b[0m \u001b[0my\u001b[0m\u001b[0;34m[\u001b[0m\u001b[0mi\u001b[0m\u001b[0;34m]\u001b[0m \u001b[0;34m-\u001b[0m \u001b[0my\u001b[0m\u001b[0;34m[\u001b[0m\u001b[0mj\u001b[0m\u001b[0;34m]\u001b[0m\u001b[0;34m\u001b[0m\u001b[0;34m\u001b[0m\u001b[0m\n\u001b[0m\u001b[1;32m     12\u001b[0m             \u001b[0mzij\u001b[0m \u001b[0;34m=\u001b[0m \u001b[0mz\u001b[0m\u001b[0;34m[\u001b[0m\u001b[0mi\u001b[0m\u001b[0;34m]\u001b[0m \u001b[0;34m-\u001b[0m \u001b[0mz\u001b[0m\u001b[0;34m[\u001b[0m\u001b[0mj\u001b[0m\u001b[0;34m]\u001b[0m\u001b[0;34m\u001b[0m\u001b[0;34m\u001b[0m\u001b[0m\n\u001b[1;32m     13\u001b[0m             \u001b[0mxij\u001b[0m \u001b[0;34m-=\u001b[0m \u001b[0mbox_length\u001b[0m \u001b[0;34m*\u001b[0m \u001b[0mround\u001b[0m\u001b[0;34m(\u001b[0m\u001b[0mxij\u001b[0m \u001b[0;34m/\u001b[0m \u001b[0mbox_length\u001b[0m\u001b[0;34m)\u001b[0m\u001b[0;34m\u001b[0m\u001b[0;34m\u001b[0m\u001b[0m\n",
      "\u001b[0;31mKeyboardInterrupt\u001b[0m: "
     ]
    }
   ],
   "source": [
    "for t in range(therm_time):\n",
    "    x, y, z = position(num_of_particles, box_length, x, y, z, x_force, y_force, z_force, delta_t, pbc, iseed)\n",
    "    energy, x_force, y_force, z_force = force(x, y, z, box_length, cut_ratio, l_repulsive, l_attractive, a2, epi)\n",
    "    epotn = energy / num_of_particles\n",
    "    if t%10000 == 0:\n",
    "        print(t, epotn, 'Thermalization')"
   ]
  },
  {
   "cell_type": "code",
   "execution_count": null,
   "metadata": {},
   "outputs": [],
   "source": [
    "open(51,file='energy.dat',status='unknown')\n",
    "      do istep=1,nct\n",
    "         call position(x,y,z,fx,fy,fz,pbc)\n",
    "         call force(x,y,z,fx,fy,fz,enerpot)\n",
    "         epotn=enerpot/dfloat(np)\n",
    "\t     if (mod(istep,10000) .eq. 0) print*,istep,epotn,'Thermalization'\n",
    "\t     if (mod(istep,100) .eq. 0) write(51,400)dfloat(istep),enerpot/np\n",
    "      enddo\n",
    "\n",
    "\t  close(51)"
   ]
  },
  {
   "cell_type": "code",
   "execution_count": null,
   "metadata": {},
   "outputs": [],
   "source": []
  }
 ],
 "metadata": {
  "kernelspec": {
   "display_name": "Python 3",
   "language": "python",
   "name": "python3"
  },
  "language_info": {
   "codemirror_mode": {
    "name": "ipython",
    "version": 3
   },
   "file_extension": ".py",
   "mimetype": "text/x-python",
   "name": "python",
   "nbconvert_exporter": "python",
   "pygments_lexer": "ipython3",
   "version": "3.7.3"
  }
 },
 "nbformat": 4,
 "nbformat_minor": 2
}
