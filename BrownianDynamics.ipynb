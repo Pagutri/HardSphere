{
 "cells": [
  {
   "cell_type": "markdown",
   "metadata": {},
   "source": [
    "# Brownian Dynamics"
   ]
  },
  {
   "cell_type": "code",
   "execution_count": 1,
   "metadata": {},
   "outputs": [],
   "source": [
    "from math import pi, sqrt\n",
    "import matplotlib.pyplot as plt\n",
    "from mpl_toolkits.mplot3d import Axes3D\n",
    "import numpy as np\n",
    "import random as rnd"
   ]
  },
  {
   "cell_type": "code",
   "execution_count": 2,
   "metadata": {},
   "outputs": [],
   "source": [
    "def initial_configuration(num_of_particles, box_length, mean_distance):\n",
    "    xi = []\n",
    "    yi = []\n",
    "    zi = []\n",
    "    \n",
    "    xi.append(0.5 * (mean_distance - box_length))\n",
    "    yi.append(0.5 * (mean_distance - box_length))\n",
    "    zi.append(0.5 * (mean_distance - box_length))\n",
    "    \n",
    "    for i in range(1, num_of_particles):\n",
    "        x = xi[i - 1] + mean_distance\n",
    "        y = yi[i - 1]\n",
    "        z = zi[i - 1]\n",
    "        \n",
    "        if x > 0.5 * box_length:\n",
    "            x = xi[0]\n",
    "            y = yi[i - 1] + mean_distance\n",
    "            \n",
    "            if y > 0.5 * box_length:\n",
    "                x = xi[0]\n",
    "                y = yi[0]\n",
    "                z = zi[i - 1] + mean_distance\n",
    "            \n",
    "        xi.append(x)\n",
    "        yi.append(y)\n",
    "        zi.append(z)\n",
    "        \n",
    "    return xi, yi, zi"
   ]
  },
  {
   "cell_type": "code",
   "execution_count": 3,
   "metadata": {},
   "outputs": [],
   "source": [
    "def hard_sphere(r, rx, ry, rz, lr, la, a2, epi):\n",
    "    if r < (lr / la)**(1.0 / (lr - la)):\n",
    "        potential_energy = (a2 / epi) * ((1.0 / r)**lr - (1.0 / r)**la) + 1.0 / epi\n",
    "        f = lr * (1.0 / r)**(lr + 1.0) - la * (1.0 / r)**(la + 1.0)\n",
    "        f *= a2 / epi\n",
    "    else:\n",
    "        potential_energy = 0.0\n",
    "        f = 0.0\n",
    "    fx = f * rx / r\n",
    "    fy = f * ry / r\n",
    "    fz = f * rz / r\n",
    "    \n",
    "    return potential_energy, fx, fy, fz"
   ]
  },
  {
   "cell_type": "code",
   "execution_count": 4,
   "metadata": {},
   "outputs": [],
   "source": [
    "def force(x, y, z, fx, fy, fz, box_length, cut_ratio, lr, la, a2, epi):\n",
    "    num_of_particles = len(x)\n",
    "    fx = np.zeros(num_of_particles)\n",
    "    fy = np.zeros(num_of_particles)\n",
    "    fz = np.zeros(num_of_particles)\n",
    "    energy = 0.0\n",
    "    \n",
    "    for i in range(num_of_particles):\n",
    "        for j in range(i + 1, num_of_particles):\n",
    "            xij = x[i] - x[j]\n",
    "            yij = y[i] - y[j]\n",
    "            zij = z[i] - z[j]\n",
    "            xij -= box_length * round(xij / box_length)\n",
    "            yij -= box_length * round(yij / box_length)\n",
    "            zij -= box_length * round(zij / box_length)\n",
    "            rij2 = xij**2 + yij**2 + zij**2\n",
    "            rij = sqrt(rij2)\n",
    "            \n",
    "            if rij < cut_ratio:\n",
    "                uij, fxij, fyij, fzij = hard_sphere(rij, xij, yij, zij, lr, la, a2, epi)\n",
    "                energy += uij\n",
    "                fx[i] += fxij\n",
    "                fy[i] += fyij\n",
    "                fz[i] += fzij\n",
    "                fx[j] -= fxij\n",
    "                fy[j] -= fyij\n",
    "                fz[j] -= fzij\n",
    "                \n",
    "    return energy, fx, fy, fz"
   ]
  },
  {
   "cell_type": "code",
   "execution_count": 5,
   "metadata": {},
   "outputs": [],
   "source": [
    "def position(num_of_particles, box_length, x, y, z, fx, fy, fz, delta_t, pbc, my_seed):\n",
    "    std_dev = 1.0\n",
    "    mean = 0.0\n",
    "    sigma = sqrt(2.0 * delta_t)\n",
    "    rnd.seed(my_seed)\n",
    "    \n",
    "    for i in range(num_of_particles):\n",
    "        dx = sigma * rnd.gauss(std_dev, mean)\n",
    "        dy = sigma * rnd.gauss(std_dev, mean)\n",
    "        dz = sigma * rnd.gauss(std_dev, mean)\n",
    "        x[i] += dx + fx[i] * delta_t\n",
    "        y[i] += dy + fy[i] * delta_t\n",
    "        z[i] += dz + fz[i] * delta_t\n",
    "        \n",
    "        if pbc > 0.0:\n",
    "            x[i] -= box_length * round(x[i] / box_length)\n",
    "            y[i] -= box_length * round(y[i] / box_length)\n",
    "            z[i] -= box_length * round(z[i] / box_length)\n",
    "            \n",
    "    return x, y, z"
   ]
  },
  {
   "cell_type": "code",
   "execution_count": 26,
   "metadata": {},
   "outputs": [],
   "source": [
    "def gr(x, y, z, g, dr, num_of_particles, r_partition, boxl, rc):\n",
    "    for i in range(num_of_particles):\n",
    "        for j in range(i  +  1, num_of_particles):\n",
    "            xij = x[j] - x[i]\n",
    "            yij = y[j] - y[i]\n",
    "            zij = z[j] - z[i]\n",
    "            xij = xij - boxl * round(xij / boxl)\n",
    "            yij = yij - boxl * round(yij / boxl)\n",
    "            zij = zij - boxl * round(zij / boxl)\n",
    "            rij2 = xij * xij + yij * yij + zij * zij\n",
    "            rij = sqrt(rij2)\n",
    "            \n",
    "            if rij < rc:\n",
    "                nbin = int(rij / dr) + 1\n",
    "                if nbin <= r_partition:\n",
    "                    g[nbin] += 2.0"
   ]
  },
  {
   "cell_type": "code",
   "execution_count": 17,
   "metadata": {},
   "outputs": [],
   "source": [
    "num_of_particles = 3**3 # Must be a cube\n",
    "packing_fraction = 0.5\n",
    "l_repulsive = 50.0\n",
    "l_attractive = 49.0\n",
    "epi = 1.4737\n",
    "pbc = 1.0 # Periodic boundary condition\n",
    "delta_t = 0.00001\n",
    "therm_time = 200000\n",
    "iseed = 1234567890\n",
    "diameter = 6.0 * packing_fraction / pi\n",
    "mean_distance = diameter**(-1.0 / 3.0)\n",
    "box_length = (num_of_particles / diameter)**(1.0 / 3.0)\n",
    "a2 = (l_repulsive / (l_repulsive - l_attractive)) * \\\n",
    "     (l_repulsive / l_attractive)**(l_attractive / (l_repulsive - l_attractive))\n",
    "cut_ratio = 0.5 * box_length"
   ]
  },
  {
   "cell_type": "code",
   "execution_count": 18,
   "metadata": {},
   "outputs": [],
   "source": [
    "time_window = 100000\n",
    "r_partition = 2**8\n",
    "dr = cut_ratio / r_partition\n",
    "\n",
    "# ????\n",
    "ncep = 10\n",
    "ncp = 1000000\n",
    "nprom = 0\n",
    "nconf = ncp"
   ]
  },
  {
   "cell_type": "code",
   "execution_count": 20,
   "metadata": {},
   "outputs": [],
   "source": [
    "r = np.zeros(r_partition)\n",
    "g = np.zeros(r_partition) # radial distribution function\n",
    "q = np.zeros(r_partition) # wave vector\n",
    "sq = np.zeros(r_partition) # structure factor\n",
    "h = np.zeros(r_partition) # Fourier transform of g - 1\n",
    "\n",
    "t = np.zeros(time_window)\n",
    "wt = np.zeros(time_window) # mean squared displacement\n",
    "ft = np.zeros(time_window) # Función de distribución intermedia auto\n",
    "\n",
    "# Coordenadas i-ésima partícula al tiempo t\n",
    "cfx = np.zeros((time_window, num_of_particles))\n",
    "cfy = np.zeros((time_window, num_of_particles))\n",
    "cfz = np.zeros((time_window, num_of_particles))"
   ]
  },
  {
   "cell_type": "code",
   "execution_count": 9,
   "metadata": {},
   "outputs": [],
   "source": [
    "x, y, z = initial_configuration(num_of_particles, box_length, mean_distance)\n",
    "\n",
    "x_force = np.zeros(num_of_particles)\n",
    "y_force = np.zeros(num_of_particles)\n",
    "z_force = np.zeros(num_of_particles)"
   ]
  },
  {
   "cell_type": "code",
   "execution_count": 10,
   "metadata": {},
   "outputs": [],
   "source": [
    "energy, x_force, y_force, z_force = force(x, y, z, x_force, y_force, z_force, \\\\\n",
    "                                          box_length, cut_ratio, l_repulsive, l_attractive, a2, epi)"
   ]
  },
  {
   "cell_type": "code",
   "execution_count": 11,
   "metadata": {
    "scrolled": true
   },
   "outputs": [
    {
     "name": "stdout",
     "output_type": "stream",
     "text": [
      "initial energy: 0.06834096389861033\n"
     ]
    }
   ],
   "source": [
    "print(\"initial energy:\", energy / num_of_particles)"
   ]
  },
  {
   "cell_type": "code",
   "execution_count": 12,
   "metadata": {},
   "outputs": [
    {
     "data": {
      "text/plain": [
       "Text(0.5, 0, 'Z')"
      ]
     },
     "execution_count": 12,
     "metadata": {},
     "output_type": "execute_result"
    },
    {
     "data": {
      "image/png": "[encoded data removed]",
      "text/plain": [
       "<Figure size 432x288 with 1 Axes>"
      ]
     },
     "metadata": {
      "needs_background": "light"
     },
     "output_type": "display_data"
    }
   ],
   "source": [
    "fig = plt.figure()\n",
    "ax = fig.add_subplot(111, projection='3d')\n",
    "ax.scatter(x, y, z, c = 'b', marker = '.') \n",
    "ax.set_xlabel('X')\n",
    "ax.set_ylabel('Y')\n",
    "ax.set_zlabel('Z')"
   ]
  },
  {
   "cell_type": "code",
   "execution_count": 13,
   "metadata": {
    "scrolled": true
   },
   "outputs": [
    {
     "name": "stdout",
     "output_type": "stream",
     "text": [
      "0 0.06834096389861033 Thermalization\n",
      "1000 0.06834096389861534 Thermalization\n",
      "2000 0.06834096389861025 Thermalization\n",
      "3000 0.06834096389862042 Thermalization\n",
      "4000 0.06834096389861025 Thermalization\n",
      "5000 0.06834096389860522 Thermalization\n",
      "6000 0.0683409638986153 Thermalization\n",
      "7000 0.0683409638986103 Thermalization\n",
      "8000 0.0683409638986153 Thermalization\n",
      "9000 0.0683409638986103 Thermalization\n",
      "10000 0.06834096389862046 Thermalization\n",
      "11000 0.06834096389861537 Thermalization\n",
      "12000 0.06834096389861025 Thermalization\n",
      "13000 0.06834096389861537 Thermalization\n",
      "14000 0.06834096389861025 Thermalization\n",
      "15000 0.06834096389861537 Thermalization\n",
      "16000 0.06834096389861534 Thermalization\n",
      "17000 0.06834096389861025 Thermalization\n",
      "18000 0.06834096389861534 Thermalization\n",
      "19000 0.06834096389861025 Thermalization\n",
      "20000 0.06834096389861534 Thermalization\n",
      "21000 0.0683409638986153 Thermalization\n",
      "22000 0.0683409638986103 Thermalization\n",
      "23000 0.0683409638986153 Thermalization\n",
      "24000 0.0683409638986103 Thermalization\n",
      "25000 0.0683409638986153 Thermalization\n",
      "26000 0.06834096389861537 Thermalization\n",
      "27000 0.06834096389861025 Thermalization\n",
      "28000 0.06834096389861537 Thermalization\n",
      "29000 0.06834096389861025 Thermalization\n",
      "30000 0.06834096389861537 Thermalization\n",
      "31000 0.06834096389861025 Thermalization\n",
      "32000 0.06834096389861025 Thermalization\n",
      "33000 0.06834096389862042 Thermalization\n",
      "34000 0.06834096389861025 Thermalization\n",
      "35000 0.06834096389861534 Thermalization\n",
      "36000 0.06834096389861025 Thermalization\n",
      "37000 0.0683409638986103 Thermalization\n",
      "38000 0.0683409638986153 Thermalization\n",
      "39000 0.0683409638986103 Thermalization\n",
      "40000 0.06834096389862046 Thermalization\n",
      "41000 0.0683409638986103 Thermalization\n",
      "42000 0.06834096389861025 Thermalization\n",
      "43000 0.06834096389861537 Thermalization\n",
      "44000 0.06834096389861025 Thermalization\n",
      "45000 0.06834096389861537 Thermalization\n",
      "46000 0.06834096389861025 Thermalization\n",
      "47000 0.06834096389861025 Thermalization\n",
      "48000 0.06834096389861534 Thermalization\n",
      "49000 0.06834096389861025 Thermalization\n",
      "50000 0.06834096389862042 Thermalization\n",
      "51000 0.06834096389861025 Thermalization\n",
      "52000 0.06834096389860508 Thermalization\n",
      "53000 0.0683409638986153 Thermalization\n",
      "54000 0.0683409638986103 Thermalization\n",
      "55000 0.0683409638986153 Thermalization\n",
      "56000 0.0683409638986103 Thermalization\n",
      "57000 0.0683409638986102 Thermalization\n",
      "58000 0.06834096389861537 Thermalization\n",
      "59000 0.06834096389861025 Thermalization\n",
      "60000 0.06834096389861537 Thermalization\n",
      "61000 0.06834096389861025 Thermalization\n",
      "62000 0.06834096389861537 Thermalization\n",
      "63000 0.06834096389861534 Thermalization\n",
      "64000 0.06834096389861025 Thermalization\n",
      "65000 0.06834096389861534 Thermalization\n",
      "66000 0.06834096389861025 Thermalization\n",
      "67000 0.06834096389861534 Thermalization\n",
      "68000 0.0683409638986153 Thermalization\n",
      "69000 0.0683409638986103 Thermalization\n",
      "70000 0.0683409638986153 Thermalization\n",
      "71000 0.0683409638986103 Thermalization\n",
      "72000 0.06834096389862046 Thermalization\n",
      "73000 0.06834096389861537 Thermalization\n",
      "74000 0.06834096389861025 Thermalization\n",
      "75000 0.06834096389862039 Thermalization\n",
      "76000 0.06834096389861025 Thermalization\n",
      "77000 0.06834096389861537 Thermalization\n",
      "78000 0.06834096389861534 Thermalization\n",
      "79000 0.06834096389861025 Thermalization\n",
      "80000 0.06834096389861534 Thermalization\n",
      "81000 0.06834096389861025 Thermalization\n",
      "82000 0.06834096389862042 Thermalization\n",
      "83000 0.06834096389861025 Thermalization\n",
      "84000 0.0683409638986103 Thermalization\n",
      "85000 0.0683409638986153 Thermalization\n",
      "86000 0.0683409638986103 Thermalization\n",
      "87000 0.0683409638986153 Thermalization\n",
      "88000 0.0683409638986103 Thermalization\n",
      "89000 0.06834096389861025 Thermalization\n",
      "90000 0.06834096389861537 Thermalization\n",
      "91000 0.06834096389861025 Thermalization\n",
      "92000 0.06834096389861537 Thermalization\n",
      "93000 0.06834096389861025 Thermalization\n",
      "94000 0.06834096389861025 Thermalization\n",
      "95000 0.06834096389861534 Thermalization\n",
      "96000 0.06834096389861025 Thermalization\n",
      "97000 0.06834096389861534 Thermalization\n",
      "98000 0.06834096389861025 Thermalization\n",
      "99000 0.06834096389860012 Thermalization\n",
      "100000 0.0683409638986153 Thermalization\n",
      "101000 0.0683409638986103 Thermalization\n",
      "102000 0.0683409638986153 Thermalization\n",
      "103000 0.0683409638986103 Thermalization\n",
      "104000 0.06834096389860508 Thermalization\n",
      "105000 0.06834096389861537 Thermalization\n",
      "106000 0.06834096389861025 Thermalization\n",
      "107000 0.06834096389861537 Thermalization\n",
      "108000 0.06834096389861025 Thermalization\n",
      "109000 0.06834096389861018 Thermalization\n",
      "110000 0.06834096389861534 Thermalization\n",
      "111000 0.06834096389861025 Thermalization\n",
      "112000 0.06834096389862042 Thermalization\n",
      "113000 0.06834096389861025 Thermalization\n",
      "114000 0.06834096389861534 Thermalization\n",
      "115000 0.0683409638986153 Thermalization\n",
      "116000 0.0683409638986103 Thermalization\n",
      "117000 0.06834096389862046 Thermalization\n",
      "118000 0.0683409638986103 Thermalization\n",
      "119000 0.0683409638986153 Thermalization\n",
      "120000 0.06834096389862039 Thermalization\n",
      "121000 0.06834096389861025 Thermalization\n",
      "122000 0.06834096389861537 Thermalization\n",
      "123000 0.06834096389861025 Thermalization\n",
      "124000 0.06834096389861537 Thermalization\n",
      "125000 0.06834096389861534 Thermalization\n",
      "126000 0.06834096389861025 Thermalization\n",
      "127000 0.06834096389862042 Thermalization\n",
      "128000 0.06834096389861025 Thermalization\n",
      "129000 0.06834096389862042 Thermalization\n",
      "130000 0.0683409638986153 Thermalization\n",
      "131000 0.0683409638986103 Thermalization\n",
      "132000 0.0683409638986153 Thermalization\n",
      "133000 0.0683409638986103 Thermalization\n",
      "134000 0.0683409638986153 Thermalization\n",
      "135000 0.0683409638986103 Thermalization\n",
      "136000 0.06834096389861025 Thermalization\n",
      "137000 0.06834096389861537 Thermalization\n",
      "138000 0.06834096389861025 Thermalization\n",
      "139000 0.06834096389861537 Thermalization\n",
      "140000 0.06834096389861025 Thermalization\n",
      "141000 0.06834096389861025 Thermalization\n",
      "142000 0.06834096389861534 Thermalization\n",
      "143000 0.06834096389861025 Thermalization\n",
      "144000 0.06834096389861534 Thermalization\n",
      "145000 0.06834096389861025 Thermalization\n",
      "146000 0.0683409638986103 Thermalization\n",
      "147000 0.0683409638986153 Thermalization\n",
      "148000 0.0683409638986103 Thermalization\n",
      "149000 0.06834096389862046 Thermalization\n",
      "150000 0.0683409638986103 Thermalization\n",
      "151000 0.06834096389860012 Thermalization\n",
      "152000 0.06834096389861537 Thermalization\n",
      "153000 0.06834096389861025 Thermalization\n",
      "154000 0.06834096389861537 Thermalization\n",
      "155000 0.06834096389861025 Thermalization\n",
      "156000 0.06834096389860012 Thermalization\n",
      "157000 0.06834096389862042 Thermalization\n",
      "158000 0.06834096389861025 Thermalization\n",
      "159000 0.06834096389862042 Thermalization\n",
      "160000 0.06834096389861025 Thermalization\n",
      "161000 0.06834096389861026 Thermalization\n",
      "162000 0.06834096389862046 Thermalization\n",
      "163000 0.0683409638986103 Thermalization\n",
      "164000 0.0683409638986153 Thermalization\n",
      "165000 0.0683409638986103 Thermalization\n",
      "166000 0.0683409638986153 Thermalization\n",
      "167000 0.06834096389861537 Thermalization\n",
      "168000 0.06834096389861025 Thermalization\n",
      "169000 0.06834096389862039 Thermalization\n",
      "170000 0.06834096389861025 Thermalization\n",
      "171000 0.06834096389861537 Thermalization\n",
      "172000 0.06834096389862042 Thermalization\n",
      "173000 0.06834096389861025 Thermalization\n",
      "174000 0.06834096389861534 Thermalization\n",
      "175000 0.06834096389861025 Thermalization\n",
      "176000 0.06834096389861534 Thermalization\n",
      "177000 0.0683409638986153 Thermalization\n",
      "178000 0.0683409638986103 Thermalization\n",
      "179000 0.0683409638986153 Thermalization\n",
      "180000 0.0683409638986103 Thermalization\n",
      "181000 0.0683409638986153 Thermalization\n",
      "182000 0.0683409638986103 Thermalization\n",
      "183000 0.06834096389861025 Thermalization\n",
      "184000 0.06834096389861537 Thermalization\n",
      "185000 0.06834096389861025 Thermalization\n",
      "186000 0.06834096389861537 Thermalization\n",
      "187000 0.06834096389861025 Thermalization\n",
      "188000 0.06834096389861025 Thermalization\n",
      "189000 0.06834096389861534 Thermalization\n",
      "190000 0.06834096389861025 Thermalization\n",
      "191000 0.06834096389861534 Thermalization\n",
      "192000 0.06834096389861025 Thermalization\n",
      "193000 0.0683409638986103 Thermalization\n",
      "194000 0.0683409638986153 Thermalization\n",
      "195000 0.0683409638986103 Thermalization\n",
      "196000 0.0683409638986153 Thermalization\n",
      "197000 0.0683409638986103 Thermalization\n",
      "198000 0.06834096389861025 Thermalization\n",
      "199000 0.06834096389862039 Thermalization\n"
     ]
    }
   ],
   "source": [
    "for T in range(therm_time):\n",
    "    x, y, z = position(num_of_particles, box_length, x, y, z, x_force, y_force, z_force, delta_t, pbc, iseed)\n",
    "    energy, x_force, y_force, z_force = force(x, y, z, box_length, cut_ratio, l_repulsive, l_attractive, a2, epi)\n",
    "    epotn = energy / num_of_particles\n",
    "    if T%1000 == 0:\n",
    "        print(T, epotn, 'Thermalization')"
   ]
  },
  {
   "cell_type": "code",
   "execution_count": 27,
   "metadata": {},
   "outputs": [
    {
     "name": "stdout",
     "output_type": "stream",
     "text": [
      "0 0.002531146811059822 Average\n",
      "10000 0.002531146811059822 Average\n"
     ]
    },
    {
     "ename": "KeyboardInterrupt",
     "evalue": "",
     "output_type": "error",
     "traceback": [
      "\u001b[0;31m---------------------------------------------------------------------------\u001b[0m",
      "\u001b[0;31mKeyboardInterrupt\u001b[0m                         Traceback (most recent call last)",
      "\u001b[0;32m<ipython-input-27-41e50c5d1baf>\u001b[0m in \u001b[0;36m<module>\u001b[0;34m\u001b[0m\n\u001b[1;32m      3\u001b[0m \u001b[0;32mfor\u001b[0m \u001b[0mi\u001b[0m \u001b[0;32min\u001b[0m \u001b[0mrange\u001b[0m\u001b[0;34m(\u001b[0m\u001b[0mnconf\u001b[0m\u001b[0;34m)\u001b[0m\u001b[0;34m:\u001b[0m\u001b[0;34m\u001b[0m\u001b[0;34m\u001b[0m\u001b[0m\n\u001b[1;32m      4\u001b[0m     \u001b[0mx\u001b[0m\u001b[0;34m,\u001b[0m \u001b[0my\u001b[0m\u001b[0;34m,\u001b[0m \u001b[0mz\u001b[0m \u001b[0;34m=\u001b[0m \u001b[0mposition\u001b[0m\u001b[0;34m(\u001b[0m\u001b[0mnum_of_particles\u001b[0m\u001b[0;34m,\u001b[0m \u001b[0mbox_length\u001b[0m\u001b[0;34m,\u001b[0m \u001b[0mx\u001b[0m\u001b[0;34m,\u001b[0m \u001b[0my\u001b[0m\u001b[0;34m,\u001b[0m \u001b[0mz\u001b[0m\u001b[0;34m,\u001b[0m \u001b[0mx_force\u001b[0m\u001b[0;34m,\u001b[0m \u001b[0my_force\u001b[0m\u001b[0;34m,\u001b[0m \u001b[0mz_force\u001b[0m\u001b[0;34m,\u001b[0m \u001b[0mdelta_t\u001b[0m\u001b[0;34m,\u001b[0m \u001b[0mpbc\u001b[0m\u001b[0;34m,\u001b[0m \u001b[0miseed\u001b[0m\u001b[0;34m)\u001b[0m\u001b[0;34m\u001b[0m\u001b[0;34m\u001b[0m\u001b[0m\n\u001b[0;32m----> 5\u001b[0;31m     \u001b[0menergy\u001b[0m\u001b[0;34m,\u001b[0m \u001b[0mx_force\u001b[0m\u001b[0;34m,\u001b[0m \u001b[0my_force\u001b[0m\u001b[0;34m,\u001b[0m \u001b[0mz_force\u001b[0m \u001b[0;34m=\u001b[0m \u001b[0mforce\u001b[0m\u001b[0;34m(\u001b[0m\u001b[0mx\u001b[0m\u001b[0;34m,\u001b[0m \u001b[0my\u001b[0m\u001b[0;34m,\u001b[0m \u001b[0mz\u001b[0m\u001b[0;34m,\u001b[0m \u001b[0mbox_length\u001b[0m\u001b[0;34m,\u001b[0m \u001b[0mcut_ratio\u001b[0m\u001b[0;34m,\u001b[0m \u001b[0ml_repulsive\u001b[0m\u001b[0;34m,\u001b[0m \u001b[0ml_attractive\u001b[0m\u001b[0;34m,\u001b[0m \u001b[0ma2\u001b[0m\u001b[0;34m,\u001b[0m \u001b[0mepi\u001b[0m\u001b[0;34m)\u001b[0m\u001b[0;34m\u001b[0m\u001b[0;34m\u001b[0m\u001b[0m\n\u001b[0m\u001b[1;32m      6\u001b[0m     \u001b[0mepotn\u001b[0m \u001b[0;34m=\u001b[0m \u001b[0menergy\u001b[0m \u001b[0;34m/\u001b[0m \u001b[0mnum_of_particles\u001b[0m\u001b[0;34m\u001b[0m\u001b[0;34m\u001b[0m\u001b[0m\n\u001b[1;32m      7\u001b[0m     \u001b[0;32mif\u001b[0m \u001b[0mi\u001b[0m\u001b[0;34m%\u001b[0m\u001b[0;36m10000\u001b[0m \u001b[0;34m==\u001b[0m \u001b[0;36m0\u001b[0m\u001b[0;34m:\u001b[0m\u001b[0;34m\u001b[0m\u001b[0;34m\u001b[0m\u001b[0m\n",
      "\u001b[0;32m<ipython-input-4-f24e9f6282dd>\u001b[0m in \u001b[0;36mforce\u001b[0;34m(x, y, z, box_length, cut_ratio, lr, la, a2, epi)\u001b[0m\n\u001b[1;32m     13\u001b[0m             \u001b[0mxij\u001b[0m \u001b[0;34m-=\u001b[0m \u001b[0mbox_length\u001b[0m \u001b[0;34m*\u001b[0m \u001b[0mround\u001b[0m\u001b[0;34m(\u001b[0m\u001b[0mxij\u001b[0m \u001b[0;34m/\u001b[0m \u001b[0mbox_length\u001b[0m\u001b[0;34m)\u001b[0m\u001b[0;34m\u001b[0m\u001b[0;34m\u001b[0m\u001b[0m\n\u001b[1;32m     14\u001b[0m             \u001b[0myij\u001b[0m \u001b[0;34m-=\u001b[0m \u001b[0mbox_length\u001b[0m \u001b[0;34m*\u001b[0m \u001b[0mround\u001b[0m\u001b[0;34m(\u001b[0m\u001b[0myij\u001b[0m \u001b[0;34m/\u001b[0m \u001b[0mbox_length\u001b[0m\u001b[0;34m)\u001b[0m\u001b[0;34m\u001b[0m\u001b[0;34m\u001b[0m\u001b[0m\n\u001b[0;32m---> 15\u001b[0;31m             \u001b[0mzij\u001b[0m \u001b[0;34m-=\u001b[0m \u001b[0mbox_length\u001b[0m \u001b[0;34m*\u001b[0m \u001b[0mround\u001b[0m\u001b[0;34m(\u001b[0m\u001b[0mzij\u001b[0m \u001b[0;34m/\u001b[0m \u001b[0mbox_length\u001b[0m\u001b[0;34m)\u001b[0m\u001b[0;34m\u001b[0m\u001b[0;34m\u001b[0m\u001b[0m\n\u001b[0m\u001b[1;32m     16\u001b[0m             \u001b[0mrij2\u001b[0m \u001b[0;34m=\u001b[0m \u001b[0mxij\u001b[0m\u001b[0;34m**\u001b[0m\u001b[0;36m2\u001b[0m \u001b[0;34m+\u001b[0m \u001b[0myij\u001b[0m\u001b[0;34m**\u001b[0m\u001b[0;36m2\u001b[0m \u001b[0;34m+\u001b[0m \u001b[0mzij\u001b[0m\u001b[0;34m**\u001b[0m\u001b[0;36m2\u001b[0m\u001b[0;34m\u001b[0m\u001b[0;34m\u001b[0m\u001b[0m\n\u001b[1;32m     17\u001b[0m             \u001b[0mrij\u001b[0m \u001b[0;34m=\u001b[0m \u001b[0msqrt\u001b[0m\u001b[0;34m(\u001b[0m\u001b[0mrij2\u001b[0m\u001b[0;34m)\u001b[0m\u001b[0;34m\u001b[0m\u001b[0;34m\u001b[0m\u001b[0m\n",
      "\u001b[0;31mKeyboardInterrupt\u001b[0m: "
     ]
    }
   ],
   "source": [
    "pbc = 0.0\n",
    "\n",
    "for i in range(nconf):\n",
    "    x, y, z = position(num_of_particles, box_length, x, y, z, x_force, y_force, z_force, delta_t, pbc, iseed)\n",
    "    energy, x_force, y_force, z_force = force(x, y, z, box_length, cut_ratio, l_repulsive, l_attractive, a2, epi)\n",
    "    epotn = energy / num_of_particles\n",
    "    if i%10000 == 0:\n",
    "        print(i, epotn / num_of_particles, 'Average')\n",
    "    if i%ncep == 0:\n",
    "        nprom += 1\n",
    "        t[nprom] = delta_t * ncep * (nprom - 1)\n",
    "        for j in range(num_of_particles):\n",
    "            cfx[nprom][j] = x[j]\n",
    "            cfy[nprom][j] = y[j]\n",
    "            cfz[nprom][j] = z[j]\n",
    "        gr(x, y, z, g, dr, num_of_particles, r_partition, box_length, cut_ratio)"
   ]
  },
  {
   "cell_type": "code",
   "execution_count": null,
   "metadata": {},
   "outputs": [],
   "source": []
  }
 ],
 "metadata": {
  "kernelspec": {
   "display_name": "Python 3",
   "language": "python",
   "name": "python3"
  },
  "language_info": {
   "codemirror_mode": {
    "name": "ipython",
    "version": 3
   },
   "file_extension": ".py",
   "mimetype": "text/x-python",
   "name": "python",
   "nbconvert_exporter": "python",
   "pygments_lexer": "ipython3",
   "version": "3.7.3"
  }
 },
 "nbformat": 4,
 "nbformat_minor": 2
}
