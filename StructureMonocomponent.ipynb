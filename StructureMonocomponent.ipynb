{
 "cells": [
  {
   "cell_type": "markdown",
   "metadata": {},
   "source": [
    "# Structure Factor for Hard Spheres\n",
    "\n",
    "Using Wertheim's exact solution for Percus-Yevick integral equation."
   ]
  },
  {
   "cell_type": "code",
   "execution_count": 1,
   "metadata": {},
   "outputs": [],
   "source": [
    "import math\n",
    "import numpy as np\n",
    "import matplotlib.pyplot as plt"
   ]
  },
  {
   "cell_type": "code",
   "execution_count": 15,
   "metadata": {},
   "outputs": [],
   "source": [
    "def calculate_ck(eta, k):\n",
    "    common_denom = (1.0 - eta)**4\n",
    "    alpha = -(1.0 + 2.0 * eta)**2.0 / common_denom\n",
    "    delta = 6.0 * eta * (1.0 + 0.5 * eta)**2 / common_denom\n",
    "    gamma = -0.5 * eta * alpha\n",
    "    \n",
    "    term1 = 4.0 * math.pi / (k**6)\n",
    "    term2 = alpha * (k**3) * (math.sin(k) - k * math.cos(k)) + 24.0 * gamma\n",
    "    term3 = (k**2) * (2.0 * k * math.sin(k) - (k**2 - 2.0) * math.cos(k) - 2.0)\n",
    "    term4 = (4.0 * k**3 - 24.0 * k) * math.sin(k)\n",
    "    term5 = (k**4 - 12.0 * k**2 + 24.0) * math.cos(k)\n",
    "\n",
    "    return term1 * (term2 + delta * term3 + gamma * (term4 - term5))"
   ]
  },
  {
   "cell_type": "code",
   "execution_count": 16,
   "metadata": {},
   "outputs": [],
   "source": [
    "def calculate_sk(eta, ck):\n",
    "    rho = 6.0 * eta / math.pi\n",
    "    sk = 1.0 / (1.0 - rho * ck)\n",
    "\n",
    "    return sk"
   ]
  },
  {
   "cell_type": "code",
   "execution_count": 44,
   "metadata": {},
   "outputs": [],
   "source": [
    "eta = 0.25 # Volume fraction\n",
    "set_of_ks = np.linspace(0.01, 41.0, 500)\n",
    "structure_factor = []\n",
    "\n",
    "for k in set_of_ks:\n",
    "    ck = calculate_ck(eta, k)\n",
    "    sk = calculate_sk(eta, ck)\n",
    "    \n",
    "    structure_factor.append(sk)"
   ]
  },
  {
   "cell_type": "code",
   "execution_count": 45,
   "metadata": {},
   "outputs": [
    {
     "data": {
      "text/plain": [
       "[<matplotlib.lines.Line2D at 0x7fa7a8b93978>]"
      ]
     },
     "execution_count": 45,
     "metadata": {},
     "output_type": "execute_result"
    },
    {
     "data": {
      "image/png": "[encoded data removed]",
      "text/plain": [
       "<Figure size 432x288 with 1 Axes>"
      ]
     },
     "metadata": {
      "needs_background": "light"
     },
     "output_type": "display_data"
    }
   ],
   "source": [
    "plt.plot(set_of_ks, structure_factor)"
   ]
  }
 ],
 "metadata": {
  "kernelspec": {
   "display_name": "Python 3",
   "language": "python",
   "name": "python3"
  },
  "language_info": {
   "codemirror_mode": {
    "name": "ipython",
    "version": 3
   },
   "file_extension": ".py",
   "mimetype": "text/x-python",
   "name": "python",
   "nbconvert_exporter": "python",
   "pygments_lexer": "ipython3",
   "version": "3.7.3"
  }
 },
 "nbformat": 4,
 "nbformat_minor": 2
}
