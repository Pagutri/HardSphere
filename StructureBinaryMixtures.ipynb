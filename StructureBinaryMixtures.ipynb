{
 "cells": [
  {
   "cell_type": "markdown",
   "metadata": {},
   "source": [
    "# Structure Factor for Hard-Sphere Binary Mixtures\n",
    "\n",
    "In this code, I make use of the results from  J. Chem. Phys. 52, 4559 (1970); https://doi.org/10.1063/1.1673684\n",
    "\n",
    "The referenced equations are those from the paper."
   ]
  },
  {
   "cell_type": "code",
   "execution_count": 2,
   "metadata": {},
   "outputs": [],
   "source": [
    "from math import pi\n",
    "import numpy as np\n",
    "import matplotlib.pyplot as plt"
   ]
  },
  {
   "cell_type": "code",
   "execution_count": 59,
   "metadata": {},
   "outputs": [],
   "source": [
    "etas = np.array([0.2, 0.3])\n",
    "diameter = np.array([1.0, 3.0])\n",
    "density = (6.0 / pi) * etas / diameter**3"
   ]
  },
  {
   "cell_type": "code",
   "execution_count": 61,
   "metadata": {},
   "outputs": [],
   "source": [
    "# Equation 42\n",
    "xi2 = (pi / 6.0) * np.sum(density * diameter**2)\n",
    "xi3 = (pi / 6.0) * np.sum(density * diameter**3)"
   ]
  },
  {
   "cell_type": "code",
   "execution_count": 62,
   "metadata": {},
   "outputs": [],
   "source": [
    "# Equations 40 and 41\n",
    "a = (1.0 - xi3 + 3.0 * diameter * xi2) / (1.0 - xi3)**2\n",
    "b = (-3.0) * diameter**2 * xi2 / (2.0 * (1.0 - xi3)**2)"
   ]
  },
  {
   "cell_type": "code",
   "execution_count": 63,
   "metadata": {},
   "outputs": [],
   "source": [
    "def calculate_Q(a, b, rho_alpha, rho_beta, R_alpha, R_beta, k):\n",
    "    I = np.identity(2)\n",
    "    densities_factor = 2.0 * pi * np.sqrt(rho_alpha * rho_beta)\n",
    "    R = 0.5 * (R_alpha + R_beta)\n",
    "    S = 0.5 * (R_alpha - R_beta)\n",
    "    term1 = np.cos(k * R) + np.sin(k * R) * 1.0j\n",
    "    term2 = ((a / ((k**3) * 2.0j)) * (k * R * 2.0j - 2.0) + (b / k**2))\n",
    "    term3 = np.cos(k * S) + np.sin(k * S) * 1.0j\n",
    "    term4 = (a / ((k**3) * 2.0j)) * ((k * S)**2 + k * S * 2.0j - 2.0)\n",
    "    term5 = (b / k**2) * (1.0 - k * S * 1.0j)\n",
    "    term6 = (a * R**2 + 2.0 * b * R) / (k * 2.0j)\n",
    "    \n",
    "    return I - densities_factor * (term1 * term2 - term3 * (term4 + term5 - term6))"
   ]
  },
  {
   "cell_type": "code",
   "execution_count": 64,
   "metadata": {},
   "outputs": [],
   "source": [
    "R1, R2 = np.meshgrid(diameter, diameter)\n",
    "rho1, rho2 = np.meshgrid(density, density)\n",
    "a1, a2 = np.meshgrid(a, a)\n",
    "b1, b2 = np.meshgrid(b, b)"
   ]
  },
  {
   "cell_type": "code",
   "execution_count": 65,
   "metadata": {},
   "outputs": [],
   "source": [
    "def calculate_Sk(Q, Q_m): \n",
    "    ImC = Q_m.T @ Q\n",
    "    Sk = np.linalg.inv(ImC)\n",
    "    \n",
    "    return Sk"
   ]
  },
  {
   "cell_type": "code",
   "execution_count": 66,
   "metadata": {},
   "outputs": [],
   "source": [
    "set_of_ks = np.linspace(0.01, 41.0, 500)"
   ]
  },
  {
   "cell_type": "code",
   "execution_count": 67,
   "metadata": {},
   "outputs": [],
   "source": [
    "t = []\n",
    "\n",
    "for k in set_of_ks:\n",
    "    Q = calculate_Q(a1, b1, rho1, rho2, R1, R2, k)\n",
    "    Q_m = calculate_Q(a1, b1, rho1, rho2, R1, R2, -k)\n",
    "    S_term = calculate_Sk(Q, Q_m)\n",
    "    \n",
    "    t.append(S_term)"
   ]
  },
  {
   "cell_type": "code",
   "execution_count": 68,
   "metadata": {},
   "outputs": [],
   "source": [
    "structure_factor = np.stack(t, -1)"
   ]
  },
  {
   "cell_type": "code",
   "execution_count": 69,
   "metadata": {},
   "outputs": [],
   "source": [
    "S11 = structure_factor[0][0][:]\n",
    "S12 = structure_factor[0][1][:]\n",
    "S22 = structure_factor[1][1][:]"
   ]
  },
  {
   "cell_type": "code",
   "execution_count": 70,
   "metadata": {},
   "outputs": [
    {
     "data": {
      "image/png": "[encoded data removed]",
      "text/plain": [
       "<Figure size 432x288 with 1 Axes>"
      ]
     },
     "metadata": {
      "needs_background": "light"
     },
     "output_type": "display_data"
    }
   ],
   "source": [
    "plt.plot(set_of_ks, S11, label = \"S11\")\n",
    "plt.plot(set_of_ks, S12, label = \"S12\")\n",
    "plt.plot(set_of_ks, S22, label = \"S22\")\n",
    "plt.title(\"Structure Factor\", size = 18)\n",
    "plt.legend()\n",
    "plt.show()"
   ]
  },
  {
   "cell_type": "code",
   "execution_count": null,
   "metadata": {},
   "outputs": [],
   "source": []
  }
 ],
 "metadata": {
  "kernelspec": {
   "display_name": "Python 3",
   "language": "python",
   "name": "python3"
  },
  "language_info": {
   "codemirror_mode": {
    "name": "ipython",
    "version": 3
   },
   "file_extension": ".py",
   "mimetype": "text/x-python",
   "name": "python",
   "nbconvert_exporter": "python",
   "pygments_lexer": "ipython3",
   "version": "3.7.3"
  }
 },
 "nbformat": 4,
 "nbformat_minor": 2
}
