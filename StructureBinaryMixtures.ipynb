{
 "cells": [
  {
   "cell_type": "markdown",
   "metadata": {},
   "source": [
    "# Structure Factor for Hard-Sphere Binary Mixtures\n",
    "\n",
    "In this code, I make use of the results from  J. Chem. Phys. 52, 4559 (1970); https://doi.org/10.1063/1.1673684\n",
    "\n",
    "The referenced equations are those from the paper."
   ]
  },
  {
   "cell_type": "code",
   "execution_count": 1,
   "metadata": {},
   "outputs": [],
   "source": [
    "from math import pi\n",
    "import numpy as np"
   ]
  },
  {
   "cell_type": "code",
   "execution_count": 17,
   "metadata": {},
   "outputs": [],
   "source": [
    "# Densities given eta0 = 0.2, eta1 = 0.3\n",
    "density = np.array([0.38, 0.02])\n",
    "diameter = np.array([1.0, 3.0])"
   ]
  },
  {
   "cell_type": "code",
   "execution_count": 18,
   "metadata": {},
   "outputs": [],
   "source": [
    "# Equation 42\n",
    "xi2 = (pi / 6.0) * np.sum(density * diameter**2)\n",
    "xi3 = (pi / 6.0) * np.sum(density * diameter**3)"
   ]
  },
  {
   "cell_type": "code",
   "execution_count": 24,
   "metadata": {},
   "outputs": [],
   "source": [
    "# Equations 40 and 41\n",
    "a = (1.0 - xi3 + 3.0 * diameter * xi2) / (1.0 - xi3)**2\n",
    "b = (-3.0) * diameter**2 * xi2 / (2.0 * (1.0 - xi3)**2)"
   ]
  },
  {
   "cell_type": "code",
   "execution_count": null,
   "metadata": {},
   "outputs": [],
   "source": []
  }
 ],
 "metadata": {
  "kernelspec": {
   "display_name": "Python 3",
   "language": "python",
   "name": "python3"
  },
  "language_info": {
   "codemirror_mode": {
    "name": "ipython",
    "version": 3
   },
   "file_extension": ".py",
   "mimetype": "text/x-python",
   "name": "python",
   "nbconvert_exporter": "python",
   "pygments_lexer": "ipython3",
   "version": "3.7.3"
  }
 },
 "nbformat": 4,
 "nbformat_minor": 2
}
